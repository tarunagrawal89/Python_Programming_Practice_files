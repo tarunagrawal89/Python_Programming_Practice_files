{
 "cells": [
  {
   "cell_type": "code",
   "execution_count": 394,
   "id": "d2143c6e",
   "metadata": {},
   "outputs": [],
   "source": [
    "class MyFunc():\n",
    "    number=9490008331\n",
    "    def __init__ (self,name,age,gender):\n",
    "        self.myname=name\n",
    "        self.myage=age\n",
    "        self.mygender=gender\n",
    "    def job(self):\n",
    "        return self.number\n",
    "        "
   ]
  },
  {
   "cell_type": "code",
   "execution_count": 398,
   "id": "15b6a892",
   "metadata": {},
   "outputs": [],
   "source": [
    "func=MyFunc('tagggggrun',31,'male')"
   ]
  },
  {
   "cell_type": "code",
   "execution_count": 406,
   "id": "f506f7c0",
   "metadata": {},
   "outputs": [],
   "source": [
    "f1=MyFunc('','','')"
   ]
  },
  {
   "cell_type": "code",
   "execution_count": 408,
   "id": "ac37e0fd",
   "metadata": {},
   "outputs": [
    {
     "data": {
      "text/plain": [
       "''"
      ]
     },
     "execution_count": 408,
     "metadata": {},
     "output_type": "execute_result"
    }
   ],
   "source": [
    "f1.myname"
   ]
  },
  {
   "cell_type": "code",
   "execution_count": 400,
   "id": "348cade6",
   "metadata": {},
   "outputs": [
    {
     "data": {
      "text/plain": [
       "'tagggggrun'"
      ]
     },
     "execution_count": 400,
     "metadata": {},
     "output_type": "execute_result"
    }
   ],
   "source": [
    "func.myname"
   ]
  },
  {
   "cell_type": "code",
   "execution_count": 375,
   "id": "c63684ae",
   "metadata": {},
   "outputs": [
    {
     "data": {
      "text/plain": [
       "'male'"
      ]
     },
     "execution_count": 375,
     "metadata": {},
     "output_type": "execute_result"
    }
   ],
   "source": [
    "func.mygender"
   ]
  },
  {
   "cell_type": "code",
   "execution_count": 376,
   "id": "46188199",
   "metadata": {},
   "outputs": [
    {
     "data": {
      "text/plain": [
       "31"
      ]
     },
     "execution_count": 376,
     "metadata": {},
     "output_type": "execute_result"
    }
   ],
   "source": [
    "func.myage"
   ]
  },
  {
   "cell_type": "code",
   "execution_count": 377,
   "id": "bd9900ac",
   "metadata": {},
   "outputs": [
    {
     "data": {
      "text/plain": [
       "9490008331"
      ]
     },
     "execution_count": 377,
     "metadata": {},
     "output_type": "execute_result"
    }
   ],
   "source": [
    "func.number"
   ]
  },
  {
   "cell_type": "code",
   "execution_count": 378,
   "id": "3c5e8c68",
   "metadata": {},
   "outputs": [
    {
     "data": {
      "text/plain": [
       "9490008331"
      ]
     },
     "execution_count": 378,
     "metadata": {},
     "output_type": "execute_result"
    }
   ],
   "source": [
    "func.job()"
   ]
  },
  {
   "cell_type": "code",
   "execution_count": 379,
   "id": "abfbfc5b",
   "metadata": {},
   "outputs": [],
   "source": [
    "class Exper(MyFunc):\n",
    "    def __init__(self,exp):\n",
    "        self.myexp=exp\n",
    "        print('hello new class')"
   ]
  },
  {
   "cell_type": "code",
   "execution_count": 226,
   "id": "107769a8",
   "metadata": {},
   "outputs": [
    {
     "name": "stdout",
     "output_type": "stream",
     "text": [
      "hello new class\n"
     ]
    }
   ],
   "source": [
    "myExper=Exper(11)"
   ]
  },
  {
   "cell_type": "code",
   "execution_count": 227,
   "id": "739cbc5e",
   "metadata": {},
   "outputs": [
    {
     "data": {
      "text/plain": [
       "9490008331"
      ]
     },
     "execution_count": 227,
     "metadata": {},
     "output_type": "execute_result"
    }
   ],
   "source": [
    "myExper.number"
   ]
  },
  {
   "cell_type": "code",
   "execution_count": 228,
   "id": "a5bd944b",
   "metadata": {},
   "outputs": [
    {
     "data": {
      "text/plain": [
       "9490008331"
      ]
     },
     "execution_count": 228,
     "metadata": {},
     "output_type": "execute_result"
    }
   ],
   "source": [
    "myExper.job()"
   ]
  },
  {
   "cell_type": "code",
   "execution_count": 229,
   "id": "f4ffa40e",
   "metadata": {},
   "outputs": [
    {
     "data": {
      "text/plain": [
       "11"
      ]
     },
     "execution_count": 229,
     "metadata": {},
     "output_type": "execute_result"
    }
   ],
   "source": [
    "myExper.myexp"
   ]
  },
  {
   "cell_type": "code",
   "execution_count": 419,
   "id": "c6983b86",
   "metadata": {},
   "outputs": [],
   "source": [
    "class Exper():\n",
    "    def __init__(self,exp,auther,stream):\n",
    "        self.myexp=exp\n",
    "        self.auther=auther\n",
    "        self.mystream=stream\n",
    "        self.data=[exp,auther,stream]\n",
    "        print('hello new class')\n",
    "   # def __str__(self):\n",
    "        #return f\"{self.auther} has {self.myexp}\"\n",
    "   # def __len__(self):\n",
    "        #return self.myexp"
   ]
  },
  {
   "cell_type": "code",
   "execution_count": 420,
   "id": "5a4af599",
   "metadata": {},
   "outputs": [
    {
     "name": "stdout",
     "output_type": "stream",
     "text": [
      "hello new class\n"
     ]
    }
   ],
   "source": [
    "myexper=Exper(11,'tarun','ece')"
   ]
  },
  {
   "cell_type": "code",
   "execution_count": 421,
   "id": "229b938a",
   "metadata": {},
   "outputs": [
    {
     "name": "stdout",
     "output_type": "stream",
     "text": [
      "<__main__.Exper object at 0x000001358350A280>\n"
     ]
    }
   ],
   "source": [
    "print(myexper)"
   ]
  },
  {
   "cell_type": "code",
   "execution_count": 348,
   "id": "1a74054f",
   "metadata": {},
   "outputs": [
    {
     "name": "stdout",
     "output_type": "stream",
     "text": [
      "tarun has 11\n"
     ]
    }
   ],
   "source": [
    "print(myexper)"
   ]
  },
  {
   "cell_type": "code",
   "execution_count": 425,
   "id": "8e57aaff",
   "metadata": {},
   "outputs": [
    {
     "data": {
      "text/plain": [
       "11"
      ]
     },
     "execution_count": 425,
     "metadata": {},
     "output_type": "execute_result"
    }
   ],
   "source": [
    "myexper.myexp"
   ]
  },
  {
   "cell_type": "code",
   "execution_count": 426,
   "id": "596d11b7",
   "metadata": {},
   "outputs": [
    {
     "data": {
      "text/plain": [
       "'ece'"
      ]
     },
     "execution_count": 426,
     "metadata": {},
     "output_type": "execute_result"
    }
   ],
   "source": [
    "myexper.mystream"
   ]
  },
  {
   "cell_type": "code",
   "execution_count": 422,
   "id": "d78c1814",
   "metadata": {},
   "outputs": [
    {
     "name": "stdout",
     "output_type": "stream",
     "text": [
      "<__main__.Exper object at 0x000001358350A280>\n"
     ]
    }
   ],
   "source": [
    "print(myexper)"
   ]
  },
  {
   "cell_type": "code",
   "execution_count": 427,
   "id": "f756aac9",
   "metadata": {},
   "outputs": [
    {
     "ename": "TypeError",
     "evalue": "object of type 'Exper' has no len()",
     "output_type": "error",
     "traceback": [
      "\u001b[1;31m---------------------------------------------------------------------------\u001b[0m",
      "\u001b[1;31mTypeError\u001b[0m                                 Traceback (most recent call last)",
      "\u001b[1;32m<ipython-input-427-b3719ff87224>\u001b[0m in \u001b[0;36m<module>\u001b[1;34m\u001b[0m\n\u001b[1;32m----> 1\u001b[1;33m \u001b[0mlen\u001b[0m\u001b[1;33m(\u001b[0m\u001b[0mmyexper\u001b[0m\u001b[1;33m)\u001b[0m\u001b[1;33m\u001b[0m\u001b[1;33m\u001b[0m\u001b[0m\n\u001b[0m",
      "\u001b[1;31mTypeError\u001b[0m: object of type 'Exper' has no len()"
     ]
    }
   ],
   "source": [
    "len(myexper)"
   ]
  },
  {
   "cell_type": "code",
   "execution_count": 353,
   "id": "211ccb74",
   "metadata": {},
   "outputs": [
    {
     "data": {
      "text/plain": [
       "__main__.Exper"
      ]
     },
     "execution_count": 353,
     "metadata": {},
     "output_type": "execute_result"
    }
   ],
   "source": [
    "type(myexper)"
   ]
  },
  {
   "cell_type": "code",
   "execution_count": 354,
   "id": "a035664f",
   "metadata": {},
   "outputs": [
    {
     "data": {
      "text/plain": [
       "[11, 'tarun', 'ece']"
      ]
     },
     "execution_count": 354,
     "metadata": {},
     "output_type": "execute_result"
    }
   ],
   "source": [
    "myexper.data"
   ]
  },
  {
   "cell_type": "code",
   "execution_count": 322,
   "id": "6937f574",
   "metadata": {},
   "outputs": [],
   "source": [
    "class Account():\n",
    "    def __init__(self,owner,balance):\n",
    "        self.owner= owner\n",
    "        self.balance = balance\n",
    "        \n",
    "    def deposit(self,depositamount):\n",
    "        self.balance = self.balance + depositamount\n",
    "        print(f'balance amount is {self.balance}')\n",
    "    \n",
    "    \n",
    "    def withdraw(self, withdrawamount):\n",
    "        if withdrawamount > self.balance:\n",
    "            return f\"{withdrawamount} is more than balance amount {self.balance}\"\n",
    "        else:\n",
    "            self.balance= self.balance - withdrawamount\n",
    "            print(f'balance amount is {self.balance}')\n",
    "        \n",
    "    def __str__(self):\n",
    "        return f\"{self.owner} having total account balance {self.balance}\"\n",
    "    \n",
    "    \n",
    "        "
   ]
  },
  {
   "cell_type": "code",
   "execution_count": 323,
   "id": "499b8175",
   "metadata": {},
   "outputs": [],
   "source": [
    "myacc = Account(\"tarun\",10000)"
   ]
  },
  {
   "cell_type": "code",
   "execution_count": 324,
   "id": "ff40d5c6",
   "metadata": {},
   "outputs": [
    {
     "name": "stdout",
     "output_type": "stream",
     "text": [
      "tarun having total account balance 10000\n"
     ]
    }
   ],
   "source": [
    "print(myacc)"
   ]
  },
  {
   "cell_type": "code",
   "execution_count": 325,
   "id": "9865ae97",
   "metadata": {},
   "outputs": [
    {
     "data": {
      "text/plain": [
       "'tarun'"
      ]
     },
     "execution_count": 325,
     "metadata": {},
     "output_type": "execute_result"
    }
   ],
   "source": [
    "myacc.owner"
   ]
  },
  {
   "cell_type": "code",
   "execution_count": 326,
   "id": "deef36db",
   "metadata": {},
   "outputs": [
    {
     "data": {
      "text/plain": [
       "10000"
      ]
     },
     "execution_count": 326,
     "metadata": {},
     "output_type": "execute_result"
    }
   ],
   "source": [
    "myacc.balance"
   ]
  },
  {
   "cell_type": "code",
   "execution_count": 327,
   "id": "96b68d8b",
   "metadata": {},
   "outputs": [
    {
     "name": "stdout",
     "output_type": "stream",
     "text": [
      "balance amount is 9000\n"
     ]
    }
   ],
   "source": [
    "myacc.withdraw(1000)"
   ]
  },
  {
   "cell_type": "code",
   "execution_count": 328,
   "id": "4c6f8982",
   "metadata": {},
   "outputs": [
    {
     "name": "stdout",
     "output_type": "stream",
     "text": [
      "balance amount is 11000\n"
     ]
    }
   ],
   "source": [
    "myacc.deposit(2000)"
   ]
  },
  {
   "cell_type": "code",
   "execution_count": 329,
   "id": "23a816d7",
   "metadata": {},
   "outputs": [
    {
     "name": "stdout",
     "output_type": "stream",
     "text": [
      "balance amount is 11400\n"
     ]
    }
   ],
   "source": [
    "myacc.deposit(400)"
   ]
  },
  {
   "cell_type": "code",
   "execution_count": 330,
   "id": "717347ef",
   "metadata": {},
   "outputs": [
    {
     "name": "stdout",
     "output_type": "stream",
     "text": [
      "balance amount is 7900\n"
     ]
    }
   ],
   "source": [
    "myacc.withdraw(3500)"
   ]
  },
  {
   "cell_type": "code",
   "execution_count": 331,
   "id": "eceb4fbf",
   "metadata": {},
   "outputs": [
    {
     "name": "stdout",
     "output_type": "stream",
     "text": [
      "tarun having total account balance 7900\n"
     ]
    }
   ],
   "source": [
    "print(myacc)"
   ]
  },
  {
   "cell_type": "code",
   "execution_count": 332,
   "id": "63991cbb",
   "metadata": {},
   "outputs": [
    {
     "name": "stdout",
     "output_type": "stream",
     "text": [
      "balance amount is 4891\n"
     ]
    }
   ],
   "source": [
    "myacc.withdraw(3009)"
   ]
  },
  {
   "cell_type": "code",
   "execution_count": 333,
   "id": "0568d5da",
   "metadata": {},
   "outputs": [
    {
     "data": {
      "text/plain": [
       "'5000 is more than balance amount 4891'"
      ]
     },
     "execution_count": 333,
     "metadata": {},
     "output_type": "execute_result"
    }
   ],
   "source": [
    "myacc.withdraw(5000)"
   ]
  },
  {
   "cell_type": "code",
   "execution_count": 334,
   "id": "d2fdfaa5",
   "metadata": {},
   "outputs": [
    {
     "data": {
      "text/plain": [
       "3"
      ]
     },
     "execution_count": 334,
     "metadata": {},
     "output_type": "execute_result"
    }
   ],
   "source": [
    "1+2"
   ]
  },
  {
   "cell_type": "code",
   "execution_count": 342,
   "id": "e87dd3fd",
   "metadata": {},
   "outputs": [
    {
     "ename": "SyntaxError",
     "evalue": "EOL while scanning string literal (<ipython-input-342-c24f72d92186>, line 1)",
     "output_type": "error",
     "traceback": [
      "\u001b[1;36m  File \u001b[1;32m\"<ipython-input-342-c24f72d92186>\"\u001b[1;36m, line \u001b[1;32m1\u001b[0m\n\u001b[1;33m    1+\"2\u001b[0m\n\u001b[1;37m        ^\u001b[0m\n\u001b[1;31mSyntaxError\u001b[0m\u001b[1;31m:\u001b[0m EOL while scanning string literal\n"
     ]
    }
   ],
   "source": [
    "1+\"2"
   ]
  },
  {
   "cell_type": "code",
   "execution_count": 336,
   "id": "e6f3b07a",
   "metadata": {},
   "outputs": [
    {
     "data": {
      "text/plain": [
       "'23'"
      ]
     },
     "execution_count": 336,
     "metadata": {},
     "output_type": "execute_result"
    }
   ],
   "source": [
    "\"2\"+\"3\""
   ]
  },
  {
   "cell_type": "code",
   "execution_count": 337,
   "id": "e0a404db",
   "metadata": {},
   "outputs": [
    {
     "data": {
      "text/plain": [
       "25"
      ]
     },
     "execution_count": 337,
     "metadata": {},
     "output_type": "execute_result"
    }
   ],
   "source": [
    "int(\"23\")+2"
   ]
  },
  {
   "cell_type": "code",
   "execution_count": 345,
   "id": "ee85c9ca",
   "metadata": {},
   "outputs": [
    {
     "name": "stdout",
     "output_type": "stream",
     "text": [
      "enter:\"6\"\n"
     ]
    },
    {
     "ename": "ValueError",
     "evalue": "invalid literal for int() with base 10: '\"6\"'",
     "output_type": "error",
     "traceback": [
      "\u001b[1;31m---------------------------------------------------------------------------\u001b[0m",
      "\u001b[1;31mValueError\u001b[0m                                Traceback (most recent call last)",
      "\u001b[1;32m<ipython-input-345-3f73c7ba3046>\u001b[0m in \u001b[0;36m<module>\u001b[1;34m\u001b[0m\n\u001b[1;32m----> 1\u001b[1;33m \u001b[0mresult\u001b[0m\u001b[1;33m=\u001b[0m \u001b[0mint\u001b[0m\u001b[1;33m(\u001b[0m\u001b[0minput\u001b[0m\u001b[1;33m(\u001b[0m\u001b[1;34m\"enter:\"\u001b[0m\u001b[1;33m)\u001b[0m\u001b[1;33m)\u001b[0m\u001b[1;33m\u001b[0m\u001b[1;33m\u001b[0m\u001b[0m\n\u001b[0m",
      "\u001b[1;31mValueError\u001b[0m: invalid literal for int() with base 10: '\"6\"'"
     ]
    }
   ],
   "source": [
    "result= int(input(\"enter:\"))"
   ]
  },
  {
   "cell_type": "code",
   "execution_count": 62,
   "id": "fb30b55f",
   "metadata": {},
   "outputs": [],
   "source": [
    "x = []\n",
    "def file_count(fname):\n",
    "    lines = open(fname).read().splitlines()\n",
    "    return len(lines)\n",
    "       \n",
    "    #print('Total number of lines in the text file: ', file_count(“file.txt”))"
   ]
  },
  {
   "cell_type": "code",
   "execution_count": 63,
   "id": "fd2053a0",
   "metadata": {},
   "outputs": [
    {
     "data": {
      "text/plain": [
       "12"
      ]
     },
     "execution_count": 63,
     "metadata": {},
     "output_type": "execute_result"
    }
   ],
   "source": [
    "file_count('file.txt')"
   ]
  },
  {
   "cell_type": "code",
   "execution_count": 65,
   "id": "ecdd5745",
   "metadata": {},
   "outputs": [
    {
     "name": "stdout",
     "output_type": "stream",
     "text": [
      "14\n"
     ]
    }
   ],
   "source": [
    "list1 = [2, 33, 222, 14, 25]\n",
    "print(list1[-2])"
   ]
  },
  {
   "cell_type": "code",
   "execution_count": 89,
   "id": "7071dd2c",
   "metadata": {},
   "outputs": [],
   "source": [
    "import array as arr"
   ]
  },
  {
   "cell_type": "code",
   "execution_count": 93,
   "id": "8d8ea144",
   "metadata": {},
   "outputs": [
    {
     "name": "stdout",
     "output_type": "stream",
     "text": [
      "array('d', [11.1, 2.1, 3.1, 10.1])\n",
      "array('d', [11.1, 2.1, 3.1, 10.1, 8.3, 1.3, 5.3])\n",
      "array('d', [11.1, 6.2, 2.1, 3.1, 10.1, 8.3, 1.3, 5.3])\n",
      "11.1\n"
     ]
    }
   ],
   "source": [
    "x = arr.array('d', [11.1 , 2.1 ,3.1])\n",
    "x.append(10.1)\n",
    "print(x)   #[11.1,2.1,3.1,10.1]\n",
    "x.extend([8.3,1.3,5.3])\n",
    "print(x)  #[11.1,2.1,3.1,10.1,8.3,1.3,5.3]\n",
    "x.insert(1,6.2)\n",
    "print(x)        # [11.1,2.1,6.2,3.1,10.1,8.3,1.3,5.3]\n",
    "print(x[0])"
   ]
  },
  {
   "cell_type": "code",
   "execution_count": 105,
   "id": "085e0cf0",
   "metadata": {},
   "outputs": [
    {
     "name": "stdout",
     "output_type": "stream",
     "text": [
      "3.6\n",
      "1.1\n",
      "array('d', [2.4, 6.8, 7.7, 1.2])\n"
     ]
    }
   ],
   "source": [
    "x=arr.array('d', [8.1, 2.4, 6.8, 1.1, 7.7, 1.2, 3.6])\n",
    "print(x.pop())\n",
    "print(x.pop(3))\n",
    "x.remove(8.1)\n",
    "print(x)"
   ]
  },
  {
   "cell_type": "code",
   "execution_count": 108,
   "id": "862c58e5",
   "metadata": {},
   "outputs": [
    {
     "name": "stdout",
     "output_type": "stream",
     "text": [
      "Hello\n",
      "Bonjour\n"
     ]
    }
   ],
   "source": [
    "class English:\n",
    "    def greeting(self):      \n",
    "        print (\"Hello\")\n",
    "      \n",
    "class French:\n",
    "    def greeting(self):\n",
    "        print (\"Bonjour\")\n",
    "\n",
    "def intro(language):  \n",
    "    language.greeting()\n",
    "  \n",
    "flora  = English()\n",
    "aalase = French() \n",
    "intro(flora)\n",
    "intro(aalase)"
   ]
  },
  {
   "cell_type": "code",
   "execution_count": 113,
   "id": "31cb1c17",
   "metadata": {},
   "outputs": [
    {
     "name": "stdout",
     "output_type": "stream",
     "text": [
      "3.4000000000000004\n"
     ]
    }
   ],
   "source": [
    "import numpy as np\n",
    "a = np.array([1,2,3,4,5,6,7])\n",
    "p = np.percentile(a, 40)  #Returns the 50th percentile which is also the median\n",
    "print(p)"
   ]
  },
  {
   "cell_type": "code",
   "execution_count": 124,
   "id": "c3e5ec66",
   "metadata": {},
   "outputs": [],
   "source": [
    "def fun(string):\n",
    "    s1 = string\n",
    "    s = string[::-1]\n",
    "    if(s1 == s):\n",
    "        return True\n",
    "    else:\n",
    "        return False"
   ]
  },
  {
   "cell_type": "code",
   "execution_count": 131,
   "id": "9905ac09",
   "metadata": {},
   "outputs": [],
   "source": [
    "a= fun('naa')"
   ]
  },
  {
   "cell_type": "code",
   "execution_count": 132,
   "id": "286fe087",
   "metadata": {},
   "outputs": [
    {
     "data": {
      "text/plain": [
       "False"
      ]
     },
     "execution_count": 132,
     "metadata": {},
     "output_type": "execute_result"
    }
   ],
   "source": [
    "a"
   ]
  },
  {
   "cell_type": "code",
   "execution_count": 136,
   "id": "6c40f38e",
   "metadata": {},
   "outputs": [
    {
     "name": "stdout",
     "output_type": "stream",
     "text": [
      "2\n"
     ]
    }
   ],
   "source": [
    "def sum(num):\n",
    "    if len(num) == 1:\n",
    "        return num[0]               #with only one element in the list, the sum result will be equal to the element.\n",
    "    else:\n",
    "        return num[0] + sum(num[1:])\n",
    "print(sum([2]))"
   ]
  },
  {
   "cell_type": "code",
   "execution_count": 157,
   "id": "a61832bb",
   "metadata": {},
   "outputs": [],
   "source": [
    "def Star_triangle(n):\n",
    "    for x in range(n):\n",
    "        print(''*(n-x-1)+'*'*(2*x+1))"
   ]
  },
  {
   "cell_type": "code",
   "execution_count": 158,
   "id": "9aa0e232",
   "metadata": {},
   "outputs": [
    {
     "name": "stdout",
     "output_type": "stream",
     "text": [
      "*\n",
      "***\n",
      "*****\n"
     ]
    }
   ],
   "source": [
    "Star_triangle(3)"
   ]
  },
  {
   "cell_type": "code",
   "execution_count": 166,
   "id": "8995c7cc",
   "metadata": {},
   "outputs": [
    {
     "name": "stdout",
     "output_type": "stream",
     "text": [
      "number of terms? 1\n",
      "Fibonacci sequence upto nterms\n",
      "0\n",
      "0\n"
     ]
    }
   ],
   "source": [
    "n = int(input(\"number of terms? \"))\n",
    "n1, n2 = 0, 1\n",
    "count = 0\n",
    " \n",
    "if n <= 0:\n",
    "    print(\"Please enter a positive integer\")\n",
    "elif n == 1:\n",
    "    print(\"Fibonacci sequence upto nterms\")\n",
    "    print(n1)\n",
    "else:\n",
    "    print(\"Fibonacci sequence:\")\n",
    "while count < n:\n",
    "    print(n1)\n",
    "    nth = n1 + n2\n",
    "    n1 = n2\n",
    "    n2 = nth\n",
    "    count += 1"
   ]
  },
  {
   "cell_type": "code",
   "execution_count": 177,
   "id": "833ee9c7",
   "metadata": {},
   "outputs": [
    {
     "name": "stdout",
     "output_type": "stream",
     "text": [
      "15 is a prime number\n",
      "15 is not a prime number\n"
     ]
    }
   ],
   "source": [
    "num = 15\n",
    "\n",
    "if num > 1:\n",
    "\n",
    "    for i in range(2, int(num/2)+1):\n",
    "\n",
    "        if (num % i) == 0:\n",
    "\n",
    "            print(num, \"is not a prime number\")\n",
    "\n",
    "            break\n",
    "\n",
    "        else:\n",
    "\n",
    "            print(num, \"is a prime number\")\n",
    "\n",
    "else:\n",
    "\n",
    "    print(num, \"is not a prime number\")"
   ]
  },
  {
   "cell_type": "code",
   "execution_count": 178,
   "id": "99dca68a",
   "metadata": {},
   "outputs": [],
   "source": [
    "x =[i for i in range(5)]"
   ]
  },
  {
   "cell_type": "code",
   "execution_count": 179,
   "id": "f2445226",
   "metadata": {},
   "outputs": [
    {
     "data": {
      "text/plain": [
       "[0, 1, 2, 3, 4]"
      ]
     },
     "execution_count": 179,
     "metadata": {},
     "output_type": "execute_result"
    }
   ],
   "source": [
    "x"
   ]
  },
  {
   "cell_type": "code",
   "execution_count": 192,
   "id": "9d69d82e",
   "metadata": {},
   "outputs": [],
   "source": [
    "a=[1,2,3,4,5,6,7,8]"
   ]
  },
  {
   "cell_type": "code",
   "execution_count": 198,
   "id": "c44d81a5",
   "metadata": {},
   "outputs": [
    {
     "data": {
      "text/plain": [
       "[3, 4, 5]"
      ]
     },
     "execution_count": 198,
     "metadata": {},
     "output_type": "execute_result"
    }
   ],
   "source": [
    "a[2:5]"
   ]
  },
  {
   "cell_type": "code",
   "execution_count": 207,
   "id": "9e396a0c",
   "metadata": {},
   "outputs": [],
   "source": [
    "# Write a program in Python to execute the Bubble sort algorithm.\n",
    "\n",
    "def bs(a):\n",
    "# a = name of list\n",
    "   b=len(a)-1\n",
    "# minus 1 because we always compare 2 adjacent values\n",
    "   for x in range(b):\n",
    "        for y in range(b-x):\n",
    "              a[y]=a[y+1]\n",
    "   \n",
    "   "
   ]
  },
  {
   "cell_type": "code",
   "execution_count": 208,
   "id": "fb6a4a8f",
   "metadata": {},
   "outputs": [],
   "source": [
    "a=[32,5,3,6,7,54,87]\n",
    "bs(a)"
   ]
  },
  {
   "cell_type": "code",
   "execution_count": 209,
   "id": "03197f91",
   "metadata": {},
   "outputs": [
    {
     "data": {
      "text/plain": [
       "[87, 87, 87, 87, 87, 87, 87]"
      ]
     },
     "execution_count": 209,
     "metadata": {},
     "output_type": "execute_result"
    }
   ],
   "source": [
    "a"
   ]
  },
  {
   "cell_type": "code",
   "execution_count": 214,
   "id": "16ed5db2",
   "metadata": {},
   "outputs": [
    {
     "name": "stdout",
     "output_type": "stream",
     "text": [
      "Enter the terms8\n",
      "0 1 <built-in function next> <built-in function next> <built-in function next> <built-in function next> <built-in function next> <built-in function next> "
     ]
    }
   ],
   "source": [
    "# Enter number of terms needednbsp;#0,1,1,2,3,5....\n",
    "a=int(input(\"Enter the terms\"))\n",
    "f=0 #first element of series\n",
    "s=1 #second element of series\n",
    "if a==0:\n",
    "    print(\"The requested series is\",f)\n",
    "else:\n",
    "    print(f,s,end=\" \")\n",
    "for x in range(2,a): \n",
    "    print(next,end=\" \")\n",
    "    f=s\n",
    "    s=next"
   ]
  },
  {
   "cell_type": "code",
   "execution_count": 231,
   "id": "1b66c3a5",
   "metadata": {},
   "outputs": [
    {
     "name": "stdout",
     "output_type": "stream",
     "text": [
      "enter number9\n",
      "Prime\n",
      "not prime\n"
     ]
    }
   ],
   "source": [
    "a=int(input(\"enter number\"))\n",
    "if a!=1:\n",
    "    for x in range(2,a):\n",
    "        if(a%x)==0:\n",
    "            print(\"not prime\")\n",
    "            break\n",
    "        elif:\n",
    "            a\n",
    "            \n",
    "            print(\"Prime\")\n",
    "else:\n",
    "    print(\"not prime\")"
   ]
  },
  {
   "cell_type": "code",
   "execution_count": 232,
   "id": "fd926138",
   "metadata": {},
   "outputs": [
    {
     "name": "stdout",
     "output_type": "stream",
     "text": [
      "29 is a prime number\n"
     ]
    }
   ],
   "source": [
    "num = 29\n",
    "\n",
    "# To take input from the user\n",
    "#num = int(input(\"Enter a number: \"))\n",
    "\n",
    "# define a flag variable\n",
    "flag = False\n",
    "\n",
    "# prime numbers are greater than 1\n",
    "if num > 1:\n",
    "    # check for factors\n",
    "    for i in range(2, num):\n",
    "        if (num % i) == 0:\n",
    "            # if factor is found, set flag to True\n",
    "            flag = True\n",
    "            # break out of loop\n",
    "            break\n",
    "\n",
    "# check if flag is True\n",
    "if flag:\n",
    "    print(num, \"is not a prime number\")\n",
    "else:\n",
    "    print(num, \"is a prime number\")"
   ]
  },
  {
   "cell_type": "code",
   "execution_count": 238,
   "id": "c0c15601",
   "metadata": {},
   "outputs": [
    {
     "name": "stdout",
     "output_type": "stream",
     "text": [
      "Enter a number:242\n",
      "The number is palindrome!\n"
     ]
    }
   ],
   "source": [
    "# no is palindrome\n",
    "num=int(input(\"Enter a number:\"))\n",
    "temp=num\n",
    "rev=0\n",
    "while(num>0):\n",
    "    dig=num%10\n",
    "    rev=rev*10+dig\n",
    "    num=num//10\n",
    "if(temp==rev):\n",
    "    print(\"The number is palindrome!\")\n",
    "else:\n",
    "    print(\"Not a palindrome!\")"
   ]
  },
  {
   "cell_type": "code",
   "execution_count": 251,
   "id": "6947bb53",
   "metadata": {},
   "outputs": [
    {
     "name": "stdout",
     "output_type": "stream",
     "text": [
      "The gcd of 80 and 48 is :  3\n"
     ]
    }
   ],
   "source": [
    "#Python code to demonstrate naive \n",
    "# method to compute gcd ( Loops ) \n",
    " \n",
    "def computeGCD(x, y): \n",
    "    if x > y: \n",
    "        small = y \n",
    "    else: \n",
    "        small = x \n",
    "    for i in range(1, small+1): \n",
    "        if((x % i == 0) and (y % i == 0)): \n",
    "            gcd = i     \n",
    "    return gcd \n",
    "a=21\n",
    "b=48\n",
    "# prints 12 \n",
    "print (\"The gcd of 80 and 48 is : \",end=\" \") \n",
    "print (computeGCD(a,b))"
   ]
  },
  {
   "cell_type": "code",
   "execution_count": 257,
   "id": "56a2b0b8",
   "metadata": {},
   "outputs": [
    {
     "name": "stdout",
     "output_type": "stream",
     "text": [
      "Enter a year: 2016\n",
      "2016 is a leap year\n"
     ]
    }
   ],
   "source": [
    "year = int(input(\"Enter a year: \"))  \n",
    " #Getting value for user \n",
    "if (year % 4) == 0:  \n",
    "   if (year % 100) == 0:  \n",
    "       if (year % 400) == 0:  \n",
    "           print(\"{0} is a leap year\".format(year))  \n",
    "       else:  \n",
    "           print(\"{0} is not a leap year\".format(year))  \n",
    "   else:  \n",
    "       print(\"{0} is a leap year\".format(year))\n",
    "       # Number will be printed as leap year\n",
    "else:  \n",
    "   print(\"{0} is not a leap year\".format(year))\n",
    "   #Number will be printed as Non Leap Year"
   ]
  },
  {
   "cell_type": "code",
   "execution_count": null,
   "id": "2e78019a",
   "metadata": {},
   "outputs": [],
   "source": []
  }
 ],
 "metadata": {
  "kernelspec": {
   "display_name": "Python 3 (ipykernel)",
   "language": "python",
   "name": "python3"
  },
  "language_info": {
   "codemirror_mode": {
    "name": "ipython",
    "version": 3
   },
   "file_extension": ".py",
   "mimetype": "text/x-python",
   "name": "python",
   "nbconvert_exporter": "python",
   "pygments_lexer": "ipython3",
   "version": "3.9.7"
  }
 },
 "nbformat": 4,
 "nbformat_minor": 5
}
