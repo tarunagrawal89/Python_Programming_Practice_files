{
 "cells": [
  {
   "cell_type": "code",
   "execution_count": 394,
   "id": "d2143c6e",
   "metadata": {},
   "outputs": [],
   "source": [
    "class MyFunc():\n",
    "    number=9490008331\n",
    "    def __init__ (self,name,age,gender):\n",
    "        self.myname=name\n",
    "        self.myage=age\n",
    "        self.mygender=gender\n",
    "    def job(self):\n",
    "        return self.number\n",
    "        "
   ]
  },
  {
   "cell_type": "code",
   "execution_count": 398,
   "id": "15b6a892",
   "metadata": {},
   "outputs": [],
   "source": [
    "func=MyFunc('tagggggrun',31,'male')"
   ]
  },
  {
   "cell_type": "code",
   "execution_count": 406,
   "id": "f506f7c0",
   "metadata": {},
   "outputs": [],
   "source": [
    "f1=MyFunc('','','')"
   ]
  },
  {
   "cell_type": "code",
   "execution_count": 408,
   "id": "ac37e0fd",
   "metadata": {},
   "outputs": [
    {
     "data": {
      "text/plain": [
       "''"
      ]
     },
     "execution_count": 408,
     "metadata": {},
     "output_type": "execute_result"
    }
   ],
   "source": [
    "f1.myname"
   ]
  },
  {
   "cell_type": "code",
   "execution_count": 400,
   "id": "348cade6",
   "metadata": {},
   "outputs": [
    {
     "data": {
      "text/plain": [
       "'tagggggrun'"
      ]
     },
     "execution_count": 400,
     "metadata": {},
     "output_type": "execute_result"
    }
   ],
   "source": [
    "func.myname"
   ]
  },
  {
   "cell_type": "code",
   "execution_count": 375,
   "id": "c63684ae",
   "metadata": {},
   "outputs": [
    {
     "data": {
      "text/plain": [
       "'male'"
      ]
     },
     "execution_count": 375,
     "metadata": {},
     "output_type": "execute_result"
    }
   ],
   "source": [
    "func.mygender"
   ]
  },
  {
   "cell_type": "code",
   "execution_count": 376,
   "id": "46188199",
   "metadata": {},
   "outputs": [
    {
     "data": {
      "text/plain": [
       "31"
      ]
     },
     "execution_count": 376,
     "metadata": {},
     "output_type": "execute_result"
    }
   ],
   "source": [
    "func.myage"
   ]
  },
  {
   "cell_type": "code",
   "execution_count": 377,
   "id": "bd9900ac",
   "metadata": {},
   "outputs": [
    {
     "data": {
      "text/plain": [
       "9490008331"
      ]
     },
     "execution_count": 377,
     "metadata": {},
     "output_type": "execute_result"
    }
   ],
   "source": [
    "func.number"
   ]
  },
  {
   "cell_type": "code",
   "execution_count": 378,
   "id": "3c5e8c68",
   "metadata": {},
   "outputs": [
    {
     "data": {
      "text/plain": [
       "9490008331"
      ]
     },
     "execution_count": 378,
     "metadata": {},
     "output_type": "execute_result"
    }
   ],
   "source": [
    "func.job()"
   ]
  },
  {
   "cell_type": "code",
   "execution_count": 379,
   "id": "abfbfc5b",
   "metadata": {},
   "outputs": [],
   "source": [
    "class Exper(MyFunc):\n",
    "    def __init__(self,exp):\n",
    "        self.myexp=exp\n",
    "        print('hello new class')"
   ]
  },
  {
   "cell_type": "code",
   "execution_count": 226,
   "id": "107769a8",
   "metadata": {},
   "outputs": [
    {
     "name": "stdout",
     "output_type": "stream",
     "text": [
      "hello new class\n"
     ]
    }
   ],
   "source": [
    "myExper=Exper(11)"
   ]
  },
  {
   "cell_type": "code",
   "execution_count": 227,
   "id": "739cbc5e",
   "metadata": {},
   "outputs": [
    {
     "data": {
      "text/plain": [
       "9490008331"
      ]
     },
     "execution_count": 227,
     "metadata": {},
     "output_type": "execute_result"
    }
   ],
   "source": [
    "myExper.number"
   ]
  },
  {
   "cell_type": "code",
   "execution_count": 228,
   "id": "a5bd944b",
   "metadata": {},
   "outputs": [
    {
     "data": {
      "text/plain": [
       "9490008331"
      ]
     },
     "execution_count": 228,
     "metadata": {},
     "output_type": "execute_result"
    }
   ],
   "source": [
    "myExper.job()"
   ]
  },
  {
   "cell_type": "code",
   "execution_count": 229,
   "id": "f4ffa40e",
   "metadata": {},
   "outputs": [
    {
     "data": {
      "text/plain": [
       "11"
      ]
     },
     "execution_count": 229,
     "metadata": {},
     "output_type": "execute_result"
    }
   ],
   "source": [
    "myExper.myexp"
   ]
  },
  {
   "cell_type": "code",
   "execution_count": 419,
   "id": "c6983b86",
   "metadata": {},
   "outputs": [],
   "source": [
    "class Exper():\n",
    "    def __init__(self,exp,auther,stream):\n",
    "        self.myexp=exp\n",
    "        self.auther=auther\n",
    "        self.mystream=stream\n",
    "        self.data=[exp,auther,stream]\n",
    "        print('hello new class')\n",
    "   # def __str__(self):\n",
    "        #return f\"{self.auther} has {self.myexp}\"\n",
    "   # def __len__(self):\n",
    "        #return self.myexp"
   ]
  },
  {
   "cell_type": "code",
   "execution_count": 420,
   "id": "5a4af599",
   "metadata": {},
   "outputs": [
    {
     "name": "stdout",
     "output_type": "stream",
     "text": [
      "hello new class\n"
     ]
    }
   ],
   "source": [
    "myexper=Exper(11,'tarun','ece')"
   ]
  },
  {
   "cell_type": "code",
   "execution_count": 421,
   "id": "229b938a",
   "metadata": {},
   "outputs": [
    {
     "name": "stdout",
     "output_type": "stream",
     "text": [
      "<__main__.Exper object at 0x000001358350A280>\n"
     ]
    }
   ],
   "source": [
    "print(myexper)"
   ]
  },
  {
   "cell_type": "code",
   "execution_count": 348,
   "id": "1a74054f",
   "metadata": {},
   "outputs": [
    {
     "name": "stdout",
     "output_type": "stream",
     "text": [
      "tarun has 11\n"
     ]
    }
   ],
   "source": [
    "print(myexper)"
   ]
  },
  {
   "cell_type": "code",
   "execution_count": 425,
   "id": "8e57aaff",
   "metadata": {},
   "outputs": [
    {
     "data": {
      "text/plain": [
       "11"
      ]
     },
     "execution_count": 425,
     "metadata": {},
     "output_type": "execute_result"
    }
   ],
   "source": [
    "myexper.myexp"
   ]
  },
  {
   "cell_type": "code",
   "execution_count": 426,
   "id": "596d11b7",
   "metadata": {},
   "outputs": [
    {
     "data": {
      "text/plain": [
       "'ece'"
      ]
     },
     "execution_count": 426,
     "metadata": {},
     "output_type": "execute_result"
    }
   ],
   "source": [
    "myexper.mystream"
   ]
  },
  {
   "cell_type": "code",
   "execution_count": 422,
   "id": "d78c1814",
   "metadata": {},
   "outputs": [
    {
     "name": "stdout",
     "output_type": "stream",
     "text": [
      "<__main__.Exper object at 0x000001358350A280>\n"
     ]
    }
   ],
   "source": [
    "print(myexper)"
   ]
  },
  {
   "cell_type": "code",
   "execution_count": 427,
   "id": "f756aac9",
   "metadata": {},
   "outputs": [
    {
     "ename": "TypeError",
     "evalue": "object of type 'Exper' has no len()",
     "output_type": "error",
     "traceback": [
      "\u001b[1;31m---------------------------------------------------------------------------\u001b[0m",
      "\u001b[1;31mTypeError\u001b[0m                                 Traceback (most recent call last)",
      "\u001b[1;32m<ipython-input-427-b3719ff87224>\u001b[0m in \u001b[0;36m<module>\u001b[1;34m\u001b[0m\n\u001b[1;32m----> 1\u001b[1;33m \u001b[0mlen\u001b[0m\u001b[1;33m(\u001b[0m\u001b[0mmyexper\u001b[0m\u001b[1;33m)\u001b[0m\u001b[1;33m\u001b[0m\u001b[1;33m\u001b[0m\u001b[0m\n\u001b[0m",
      "\u001b[1;31mTypeError\u001b[0m: object of type 'Exper' has no len()"
     ]
    }
   ],
   "source": [
    "len(myexper)"
   ]
  },
  {
   "cell_type": "code",
   "execution_count": 353,
   "id": "211ccb74",
   "metadata": {},
   "outputs": [
    {
     "data": {
      "text/plain": [
       "__main__.Exper"
      ]
     },
     "execution_count": 353,
     "metadata": {},
     "output_type": "execute_result"
    }
   ],
   "source": [
    "type(myexper)"
   ]
  },
  {
   "cell_type": "code",
   "execution_count": 354,
   "id": "a035664f",
   "metadata": {},
   "outputs": [
    {
     "data": {
      "text/plain": [
       "[11, 'tarun', 'ece']"
      ]
     },
     "execution_count": 354,
     "metadata": {},
     "output_type": "execute_result"
    }
   ],
   "source": [
    "myexper.data"
   ]
  },
  {
   "cell_type": "code",
   "execution_count": 322,
   "id": "6937f574",
   "metadata": {},
   "outputs": [],
   "source": [
    "class Account():\n",
    "    def __init__(self,owner,balance):\n",
    "        self.owner= owner\n",
    "        self.balance = balance\n",
    "        \n",
    "    def deposit(self,depositamount):\n",
    "        self.balance = self.balance + depositamount\n",
    "        print(f'balance amount is {self.balance}')\n",
    "    \n",
    "    \n",
    "    def withdraw(self, withdrawamount):\n",
    "        if withdrawamount > self.balance:\n",
    "            return f\"{withdrawamount} is more than balance amount {self.balance}\"\n",
    "        else:\n",
    "            self.balance= self.balance - withdrawamount\n",
    "            print(f'balance amount is {self.balance}')\n",
    "        \n",
    "    def __str__(self):\n",
    "        return f\"{self.owner} having total account balance {self.balance}\"\n",
    "    \n",
    "    \n",
    "        "
   ]
  },
  {
   "cell_type": "code",
   "execution_count": 323,
   "id": "499b8175",
   "metadata": {},
   "outputs": [],
   "source": [
    "myacc = Account(\"tarun\",10000)"
   ]
  },
  {
   "cell_type": "code",
   "execution_count": 324,
   "id": "ff40d5c6",
   "metadata": {},
   "outputs": [
    {
     "name": "stdout",
     "output_type": "stream",
     "text": [
      "tarun having total account balance 10000\n"
     ]
    }
   ],
   "source": [
    "print(myacc)"
   ]
  },
  {
   "cell_type": "code",
   "execution_count": 325,
   "id": "9865ae97",
   "metadata": {},
   "outputs": [
    {
     "data": {
      "text/plain": [
       "'tarun'"
      ]
     },
     "execution_count": 325,
     "metadata": {},
     "output_type": "execute_result"
    }
   ],
   "source": [
    "myacc.owner"
   ]
  },
  {
   "cell_type": "code",
   "execution_count": 326,
   "id": "deef36db",
   "metadata": {},
   "outputs": [
    {
     "data": {
      "text/plain": [
       "10000"
      ]
     },
     "execution_count": 326,
     "metadata": {},
     "output_type": "execute_result"
    }
   ],
   "source": [
    "myacc.balance"
   ]
  },
  {
   "cell_type": "code",
   "execution_count": 327,
   "id": "96b68d8b",
   "metadata": {},
   "outputs": [
    {
     "name": "stdout",
     "output_type": "stream",
     "text": [
      "balance amount is 9000\n"
     ]
    }
   ],
   "source": [
    "myacc.withdraw(1000)"
   ]
  },
  {
   "cell_type": "code",
   "execution_count": 328,
   "id": "4c6f8982",
   "metadata": {},
   "outputs": [
    {
     "name": "stdout",
     "output_type": "stream",
     "text": [
      "balance amount is 11000\n"
     ]
    }
   ],
   "source": [
    "myacc.deposit(2000)"
   ]
  },
  {
   "cell_type": "code",
   "execution_count": 329,
   "id": "23a816d7",
   "metadata": {},
   "outputs": [
    {
     "name": "stdout",
     "output_type": "stream",
     "text": [
      "balance amount is 11400\n"
     ]
    }
   ],
   "source": [
    "myacc.deposit(400)"
   ]
  },
  {
   "cell_type": "code",
   "execution_count": 330,
   "id": "717347ef",
   "metadata": {},
   "outputs": [
    {
     "name": "stdout",
     "output_type": "stream",
     "text": [
      "balance amount is 7900\n"
     ]
    }
   ],
   "source": [
    "myacc.withdraw(3500)"
   ]
  },
  {
   "cell_type": "code",
   "execution_count": 331,
   "id": "eceb4fbf",
   "metadata": {},
   "outputs": [
    {
     "name": "stdout",
     "output_type": "stream",
     "text": [
      "tarun having total account balance 7900\n"
     ]
    }
   ],
   "source": [
    "print(myacc)"
   ]
  },
  {
   "cell_type": "code",
   "execution_count": 332,
   "id": "63991cbb",
   "metadata": {},
   "outputs": [
    {
     "name": "stdout",
     "output_type": "stream",
     "text": [
      "balance amount is 4891\n"
     ]
    }
   ],
   "source": [
    "myacc.withdraw(3009)"
   ]
  },
  {
   "cell_type": "code",
   "execution_count": 333,
   "id": "0568d5da",
   "metadata": {},
   "outputs": [
    {
     "data": {
      "text/plain": [
       "'5000 is more than balance amount 4891'"
      ]
     },
     "execution_count": 333,
     "metadata": {},
     "output_type": "execute_result"
    }
   ],
   "source": [
    "myacc.withdraw(5000)"
   ]
  },
  {
   "cell_type": "code",
   "execution_count": 334,
   "id": "d2fdfaa5",
   "metadata": {},
   "outputs": [
    {
     "data": {
      "text/plain": [
       "3"
      ]
     },
     "execution_count": 334,
     "metadata": {},
     "output_type": "execute_result"
    }
   ],
   "source": [
    "1+2"
   ]
  },
  {
   "cell_type": "code",
   "execution_count": 342,
   "id": "e87dd3fd",
   "metadata": {},
   "outputs": [
    {
     "ename": "SyntaxError",
     "evalue": "EOL while scanning string literal (<ipython-input-342-c24f72d92186>, line 1)",
     "output_type": "error",
     "traceback": [
      "\u001b[1;36m  File \u001b[1;32m\"<ipython-input-342-c24f72d92186>\"\u001b[1;36m, line \u001b[1;32m1\u001b[0m\n\u001b[1;33m    1+\"2\u001b[0m\n\u001b[1;37m        ^\u001b[0m\n\u001b[1;31mSyntaxError\u001b[0m\u001b[1;31m:\u001b[0m EOL while scanning string literal\n"
     ]
    }
   ],
   "source": [
    "1+\"2"
   ]
  },
  {
   "cell_type": "code",
   "execution_count": 336,
   "id": "e6f3b07a",
   "metadata": {},
   "outputs": [
    {
     "data": {
      "text/plain": [
       "'23'"
      ]
     },
     "execution_count": 336,
     "metadata": {},
     "output_type": "execute_result"
    }
   ],
   "source": [
    "\"2\"+\"3\""
   ]
  },
  {
   "cell_type": "code",
   "execution_count": 337,
   "id": "e0a404db",
   "metadata": {},
   "outputs": [
    {
     "data": {
      "text/plain": [
       "25"
      ]
     },
     "execution_count": 337,
     "metadata": {},
     "output_type": "execute_result"
    }
   ],
   "source": [
    "int(\"23\")+2"
   ]
  },
  {
   "cell_type": "code",
   "execution_count": 345,
   "id": "ee85c9ca",
   "metadata": {},
   "outputs": [
    {
     "name": "stdout",
     "output_type": "stream",
     "text": [
      "enter:\"6\"\n"
     ]
    },
    {
     "ename": "ValueError",
     "evalue": "invalid literal for int() with base 10: '\"6\"'",
     "output_type": "error",
     "traceback": [
      "\u001b[1;31m---------------------------------------------------------------------------\u001b[0m",
      "\u001b[1;31mValueError\u001b[0m                                Traceback (most recent call last)",
      "\u001b[1;32m<ipython-input-345-3f73c7ba3046>\u001b[0m in \u001b[0;36m<module>\u001b[1;34m\u001b[0m\n\u001b[1;32m----> 1\u001b[1;33m \u001b[0mresult\u001b[0m\u001b[1;33m=\u001b[0m \u001b[0mint\u001b[0m\u001b[1;33m(\u001b[0m\u001b[0minput\u001b[0m\u001b[1;33m(\u001b[0m\u001b[1;34m\"enter:\"\u001b[0m\u001b[1;33m)\u001b[0m\u001b[1;33m)\u001b[0m\u001b[1;33m\u001b[0m\u001b[1;33m\u001b[0m\u001b[0m\n\u001b[0m",
      "\u001b[1;31mValueError\u001b[0m: invalid literal for int() with base 10: '\"6\"'"
     ]
    }
   ],
   "source": [
    "result= int(input(\"enter:\"))"
   ]
  },
  {
   "cell_type": "code",
   "execution_count": null,
   "id": "fb30b55f",
   "metadata": {},
   "outputs": [],
   "source": []
  }
 ],
 "metadata": {
  "kernelspec": {
   "display_name": "Python 3",
   "language": "python",
   "name": "python3"
  },
  "language_info": {
   "codemirror_mode": {
    "name": "ipython",
    "version": 3
   },
   "file_extension": ".py",
   "mimetype": "text/x-python",
   "name": "python",
   "nbconvert_exporter": "python",
   "pygments_lexer": "ipython3",
   "version": "3.8.8"
  }
 },
 "nbformat": 4,
 "nbformat_minor": 5
}
