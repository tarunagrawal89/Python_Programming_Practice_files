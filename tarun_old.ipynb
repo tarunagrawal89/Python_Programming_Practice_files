{
 "cells": [
  {
   "cell_type": "code",
   "execution_count": null,
   "id": "a4481a5c",
   "metadata": {},
   "outputs": [],
   "source": [
    "1+1"
   ]
  },
  {
   "cell_type": "code",
   "execution_count": null,
   "id": "7b22b829",
   "metadata": {},
   "outputs": [],
   "source": [
    "a=5\n",
    "a"
   ]
  },
  {
   "cell_type": "code",
   "execution_count": null,
   "id": "f25db8f9",
   "metadata": {},
   "outputs": [],
   "source": [
    "a=a+a"
   ]
  },
  {
   "cell_type": "code",
   "execution_count": null,
   "id": "61cc4a08",
   "metadata": {},
   "outputs": [],
   "source": [
    "a\n"
   ]
  },
  {
   "cell_type": "code",
   "execution_count": null,
   "id": "3977e176",
   "metadata": {},
   "outputs": [],
   "source": [
    "a=a+a"
   ]
  },
  {
   "cell_type": "code",
   "execution_count": null,
   "id": "6d7c3183",
   "metadata": {},
   "outputs": [],
   "source": [
    "a"
   ]
  },
  {
   "cell_type": "code",
   "execution_count": null,
   "id": "a6edb7de",
   "metadata": {},
   "outputs": [],
   "source": [
    "print(\"hello\\nworld\")"
   ]
  },
  {
   "cell_type": "code",
   "execution_count": null,
   "id": "ed3881b3",
   "metadata": {},
   "outputs": [],
   "source": [
    "a=\"asdkladlkanak\""
   ]
  },
  {
   "cell_type": "code",
   "execution_count": null,
   "id": "ab43af5f",
   "metadata": {},
   "outputs": [],
   "source": [
    "a[::1]"
   ]
  },
  {
   "cell_type": "code",
   "execution_count": null,
   "id": "8224a90f",
   "metadata": {},
   "outputs": [],
   "source": [
    "a[::2]"
   ]
  },
  {
   "cell_type": "code",
   "execution_count": null,
   "id": "432eb1f8",
   "metadata": {},
   "outputs": [],
   "source": [
    "a[::-2]"
   ]
  },
  {
   "cell_type": "code",
   "execution_count": null,
   "id": "d5f5aee1",
   "metadata": {
    "scrolled": true
   },
   "outputs": [],
   "source": [
    "a[2:8:-2]"
   ]
  },
  {
   "cell_type": "code",
   "execution_count": null,
   "id": "e3992dda",
   "metadata": {
    "scrolled": true
   },
   "outputs": [],
   "source": [
    "a[2:8:2]"
   ]
  },
  {
   "cell_type": "code",
   "execution_count": null,
   "id": "889f83f8",
   "metadata": {},
   "outputs": [],
   "source": [
    "a[2:8:-1]"
   ]
  },
  {
   "cell_type": "code",
   "execution_count": null,
   "id": "7300c632",
   "metadata": {},
   "outputs": [],
   "source": [
    "a=\"tarun agrawal\""
   ]
  },
  {
   "cell_type": "code",
   "execution_count": null,
   "id": "e03cbba6",
   "metadata": {},
   "outputs": [],
   "source": [
    "b=a[0]"
   ]
  },
  {
   "cell_type": "code",
   "execution_count": null,
   "id": "9838e605",
   "metadata": {},
   "outputs": [],
   "source": [
    "b"
   ]
  },
  {
   "cell_type": "code",
   "execution_count": null,
   "id": "13347141",
   "metadata": {},
   "outputs": [],
   "source": [
    "b=\"shipra goyal\""
   ]
  },
  {
   "cell_type": "code",
   "execution_count": null,
   "id": "bf60b7fa",
   "metadata": {},
   "outputs": [],
   "source": [
    "b+a"
   ]
  },
  {
   "cell_type": "code",
   "execution_count": null,
   "id": "8758b78a",
   "metadata": {},
   "outputs": [],
   "source": [
    "b=b+a"
   ]
  },
  {
   "cell_type": "code",
   "execution_count": null,
   "id": "036709dd",
   "metadata": {},
   "outputs": [],
   "source": [
    "b"
   ]
  },
  {
   "cell_type": "code",
   "execution_count": null,
   "id": "8e8ef621",
   "metadata": {},
   "outputs": [],
   "source": [
    "a"
   ]
  },
  {
   "cell_type": "code",
   "execution_count": null,
   "id": "f524858f",
   "metadata": {},
   "outputs": [],
   "source": [
    "a.capitalize()"
   ]
  },
  {
   "cell_type": "code",
   "execution_count": null,
   "id": "132ff18c",
   "metadata": {},
   "outputs": [],
   "source": [
    "a.find(\"g\")"
   ]
  },
  {
   "cell_type": "code",
   "execution_count": null,
   "id": "99456a72",
   "metadata": {},
   "outputs": [],
   "source": [
    "a.expandtabs(4)"
   ]
  },
  {
   "cell_type": "code",
   "execution_count": null,
   "id": "b1e9d78f",
   "metadata": {},
   "outputs": [],
   "source": [
    "a"
   ]
  },
  {
   "cell_type": "code",
   "execution_count": null,
   "id": "08e95428",
   "metadata": {},
   "outputs": [],
   "source": [
    "a+b"
   ]
  },
  {
   "cell_type": "code",
   "execution_count": null,
   "id": "20ed8afe",
   "metadata": {},
   "outputs": [],
   "source": [
    "b=\"shipra\""
   ]
  },
  {
   "cell_type": "code",
   "execution_count": null,
   "id": "d16debc3",
   "metadata": {},
   "outputs": [],
   "source": [
    "a=5*10"
   ]
  },
  {
   "cell_type": "code",
   "execution_count": null,
   "id": "f286aa3b",
   "metadata": {},
   "outputs": [],
   "source": [
    "print(a)"
   ]
  },
  {
   "cell_type": "code",
   "execution_count": null,
   "id": "184d4360",
   "metadata": {},
   "outputs": [],
   "source": [
    "name= \"tarun\""
   ]
  },
  {
   "cell_type": "code",
   "execution_count": null,
   "id": "49dbbbff",
   "metadata": {},
   "outputs": [],
   "source": [
    "print(\"hello\")"
   ]
  },
  {
   "cell_type": "code",
   "execution_count": null,
   "id": "2c97cd68",
   "metadata": {},
   "outputs": [],
   "source": [
    "\"hello {1} {0} {2} {1}\".format(name,b,\"agrawal\",a)"
   ]
  },
  {
   "cell_type": "code",
   "execution_count": null,
   "id": "f9e55fea",
   "metadata": {},
   "outputs": [],
   "source": [
    "\"pupu\"+\"3\""
   ]
  },
  {
   "cell_type": "code",
   "execution_count": null,
   "id": "7a6822ff",
   "metadata": {},
   "outputs": [],
   "source": [
    "tarun=[1,5,\"hello\",\"shipra\"]"
   ]
  },
  {
   "cell_type": "code",
   "execution_count": null,
   "id": "aff5657a",
   "metadata": {},
   "outputs": [],
   "source": [
    "tarun.append(6)"
   ]
  },
  {
   "cell_type": "code",
   "execution_count": null,
   "id": "982e73c0",
   "metadata": {},
   "outputs": [],
   "source": [
    "tarun"
   ]
  },
  {
   "cell_type": "code",
   "execution_count": null,
   "id": "b35711c2",
   "metadata": {},
   "outputs": [],
   "source": [
    "tarunn=tarun.append(\"78\")"
   ]
  },
  {
   "cell_type": "code",
   "execution_count": null,
   "id": "421f5e8a",
   "metadata": {},
   "outputs": [],
   "source": [
    "tarunn"
   ]
  },
  {
   "cell_type": "code",
   "execution_count": null,
   "id": "3f57689c",
   "metadata": {},
   "outputs": [],
   "source": [
    "tarun.extend(\"y\")"
   ]
  },
  {
   "cell_type": "code",
   "execution_count": null,
   "id": "13a0f287",
   "metadata": {},
   "outputs": [],
   "source": [
    "tarun"
   ]
  },
  {
   "cell_type": "code",
   "execution_count": null,
   "id": "d719dd28",
   "metadata": {},
   "outputs": [],
   "source": [
    "tarun.pop(3)"
   ]
  },
  {
   "cell_type": "code",
   "execution_count": null,
   "id": "2c64c28b",
   "metadata": {},
   "outputs": [],
   "source": [
    "a=[1,2,3,4,5]"
   ]
  },
  {
   "cell_type": "code",
   "execution_count": null,
   "id": "fbf194af",
   "metadata": {},
   "outputs": [],
   "source": [
    "x={'k1':12,'k2':23}"
   ]
  },
  {
   "cell_type": "code",
   "execution_count": null,
   "id": "77c5642d",
   "metadata": {},
   "outputs": [],
   "source": [
    "x.keys()"
   ]
  },
  {
   "cell_type": "code",
   "execution_count": null,
   "id": "13378b81",
   "metadata": {},
   "outputs": [],
   "source": [
    "x.values()"
   ]
  },
  {
   "cell_type": "code",
   "execution_count": 3,
   "id": "34be2d77",
   "metadata": {},
   "outputs": [
    {
     "name": "stdout",
     "output_type": "stream",
     "text": [
      "Overwriting myfile.txt\n"
     ]
    }
   ],
   "source": [
    "%%writefile myfile.txt\n",
    "hello this is my file "
   ]
  },
  {
   "cell_type": "code",
   "execution_count": 4,
   "id": "4324a0d2",
   "metadata": {},
   "outputs": [
    {
     "name": "stdout",
     "output_type": "stream",
     "text": [
      "Overwriting myfile.txt\n"
     ]
    }
   ],
   "source": [
    "%%writefile myfile.txt\n",
    "hello what is this "
   ]
  },
  {
   "cell_type": "code",
   "execution_count": 5,
   "id": "bb89fbc1",
   "metadata": {},
   "outputs": [],
   "source": [
    "myfile=open('myfile.txt')"
   ]
  },
  {
   "cell_type": "code",
   "execution_count": 6,
   "id": "326291d6",
   "metadata": {},
   "outputs": [
    {
     "data": {
      "text/plain": [
       "'hello what is this \\n'"
      ]
     },
     "execution_count": 6,
     "metadata": {},
     "output_type": "execute_result"
    }
   ],
   "source": [
    "myfile.read()"
   ]
  },
  {
   "cell_type": "code",
   "execution_count": null,
   "id": "9ea11fe2",
   "metadata": {},
   "outputs": [],
   "source": [
    "with open('myfile.txt') as my_files:\n",
    "    contents= my_files.read()"
   ]
  },
  {
   "cell_type": "code",
   "execution_count": null,
   "id": "c11a8034",
   "metadata": {},
   "outputs": [],
   "source": [
    "contents"
   ]
  },
  {
   "cell_type": "code",
   "execution_count": 1,
   "id": "220b7aff",
   "metadata": {},
   "outputs": [],
   "source": [
    "if True:\n",
    "    test=\"hello\""
   ]
  },
  {
   "cell_type": "code",
   "execution_count": 2,
   "id": "caf76ab3",
   "metadata": {},
   "outputs": [
    {
     "data": {
      "text/plain": [
       "'hello'"
      ]
     },
     "execution_count": 2,
     "metadata": {},
     "output_type": "execute_result"
    }
   ],
   "source": [
    "test"
   ]
  },
  {
   "cell_type": "code",
   "execution_count": null,
   "id": "6c1ebbed",
   "metadata": {},
   "outputs": [],
   "source": [
    "if 3<2:\n",
    "    test=\"hello\"\n",
    "else:\n",
    "    test=5"
   ]
  },
  {
   "cell_type": "code",
   "execution_count": null,
   "id": "14aebd0c",
   "metadata": {},
   "outputs": [],
   "source": [
    "test"
   ]
  },
  {
   "cell_type": "code",
   "execution_count": null,
   "id": "f4396054",
   "metadata": {},
   "outputs": [],
   "source": [
    "t=[1,2,3,4,5,6,7]"
   ]
  },
  {
   "cell_type": "code",
   "execution_count": null,
   "id": "8c973004",
   "metadata": {},
   "outputs": [],
   "source": [
    "for item in t:\n",
    "    print(item)"
   ]
  },
  {
   "cell_type": "code",
   "execution_count": null,
   "id": "04a4081e",
   "metadata": {},
   "outputs": [],
   "source": [
    "for item in t:\n",
    "    if item%2==0:\n",
    "        print(item)\n",
    "    else:\n",
    "        print(f'odd num {item}')"
   ]
  },
  {
   "cell_type": "code",
   "execution_count": null,
   "id": "503ce89b",
   "metadata": {},
   "outputs": [],
   "source": [
    "list=[(1,3,5,8),(6,9,7,3),(\"helL\")]"
   ]
  },
  {
   "cell_type": "code",
   "execution_count": null,
   "id": "86470753",
   "metadata": {},
   "outputs": [],
   "source": [
    "for item in list:\n",
    "    print(item)"
   ]
  },
  {
   "cell_type": "code",
   "execution_count": null,
   "id": "f6873f6c",
   "metadata": {},
   "outputs": [],
   "source": [
    "for _,_,_,_ in list:\n",
    "    print(a)\n",
    "    print(b)\n",
    "    print(c)\n",
    "    print(d)"
   ]
  },
  {
   "cell_type": "code",
   "execution_count": null,
   "id": "86f348fa",
   "metadata": {},
   "outputs": [],
   "source": [
    "d={'1k':2,'k2':5,'k3':7}"
   ]
  },
  {
   "cell_type": "code",
   "execution_count": null,
   "id": "477ce530",
   "metadata": {},
   "outputs": [],
   "source": [
    "for key,value in d.keys():\n",
    "    print(value)"
   ]
  },
  {
   "cell_type": "code",
   "execution_count": null,
   "id": "6d0e7102",
   "metadata": {},
   "outputs": [],
   "source": [
    "exm=['hii','fuyf','yuf']"
   ]
  },
  {
   "cell_type": "code",
   "execution_count": null,
   "id": "a39ff160",
   "metadata": {},
   "outputs": [],
   "source": [
    "for num in range(0,11):\n",
    "    x=num\n",
    "    list(x)"
   ]
  },
  {
   "cell_type": "code",
   "execution_count": null,
   "id": "3700d4fd",
   "metadata": {},
   "outputs": [],
   "source": [
    "\n",
    "x=[1,2,3,4,10]\n",
    "for num in enumerate(x):\n",
    "    list(num)\n",
    "   "
   ]
  },
  {
   "cell_type": "code",
   "execution_count": null,
   "id": "6d49cd37",
   "metadata": {},
   "outputs": [],
   "source": [
    "num"
   ]
  },
  {
   "cell_type": "code",
   "execution_count": null,
   "id": "8211e8cb",
   "metadata": {},
   "outputs": [],
   "source": [
    "zip(x,y)"
   ]
  },
  {
   "cell_type": "code",
   "execution_count": null,
   "id": "8e3b5832",
   "metadata": {},
   "outputs": [],
   "source": [
    "x=[1,2,3]"
   ]
  },
  {
   "cell_type": "code",
   "execution_count": null,
   "id": "3c40d7b9",
   "metadata": {},
   "outputs": [],
   "source": [
    "zip[x,y]"
   ]
  },
  {
   "cell_type": "code",
   "execution_count": null,
   "id": "1ca71bb5",
   "metadata": {},
   "outputs": [],
   "source": [
    "key=[\"d\",\"r\",\"y\"]\n",
    "value=[1,2,3]"
   ]
  },
  {
   "cell_type": "code",
   "execution_count": null,
   "id": "87722f07",
   "metadata": {},
   "outputs": [],
   "source": [
    "zip(key,value)"
   ]
  },
  {
   "cell_type": "code",
   "execution_count": null,
   "id": "2c167b1e",
   "metadata": {},
   "outputs": [],
   "source": [
    "for item in zip(key,value):\n",
    "    print(item)"
   ]
  },
  {
   "cell_type": "code",
   "execution_count": null,
   "id": "f17d9fbe",
   "metadata": {},
   "outputs": [],
   "source": [
    "'d' in "
   ]
  },
  {
   "cell_type": "code",
   "execution_count": null,
   "id": "7fb35ba0",
   "metadata": {},
   "outputs": [],
   "source": [
    "x=input('please enter any digit ')"
   ]
  },
  {
   "cell_type": "code",
   "execution_count": null,
   "id": "d1a2684f",
   "metadata": {},
   "outputs": [],
   "source": [
    "x"
   ]
  },
  {
   "cell_type": "code",
   "execution_count": null,
   "id": "c0d6d83d",
   "metadata": {
    "scrolled": true
   },
   "outputs": [],
   "source": [
    "int(x)"
   ]
  },
  {
   "cell_type": "code",
   "execution_count": null,
   "id": "3b23a653",
   "metadata": {},
   "outputs": [],
   "source": [
    "mylist=[num for num in [1234]]"
   ]
  },
  {
   "cell_type": "code",
   "execution_count": null,
   "id": "6f91c05b",
   "metadata": {
    "scrolled": true
   },
   "outputs": [],
   "source": [
    "mylist"
   ]
  },
  {
   "cell_type": "code",
   "execution_count": null,
   "id": "0615f030",
   "metadata": {},
   "outputs": [],
   "source": [
    "str=\"Print only the words that start with s in this sentence'\"\n",
    "for word in str.split():\n",
    "    if word[0]==\"s\":\n",
    "        print(word)"
   ]
  },
  {
   "cell_type": "code",
   "execution_count": null,
   "id": "93133ad1",
   "metadata": {},
   "outputs": [],
   "source": [
    "a,b= \"hello\",\"bye\""
   ]
  },
  {
   "cell_type": "code",
   "execution_count": null,
   "id": "5a55f5a7",
   "metadata": {},
   "outputs": [],
   "source": [
    "a"
   ]
  },
  {
   "cell_type": "code",
   "execution_count": null,
   "id": "b5da2080",
   "metadata": {},
   "outputs": [],
   "source": [
    "x=range(0,10)\n",
    "x"
   ]
  },
  {
   "cell_type": "code",
   "execution_count": null,
   "id": "d4e8b553",
   "metadata": {},
   "outputs": [],
   "source": [
    "x=list(range(0,10,2))\n"
   ]
  },
  {
   "cell_type": "code",
   "execution_count": null,
   "id": "2c8e2074",
   "metadata": {},
   "outputs": [],
   "source": [
    "x"
   ]
  },
  {
   "cell_type": "code",
   "execution_count": null,
   "id": "0ad3babe",
   "metadata": {},
   "outputs": [],
   "source": [
    "[num for num in range(1,50) if num%3==0]\n",
    "    \n",
    "        "
   ]
  },
  {
   "cell_type": "code",
   "execution_count": null,
   "id": "c769189c",
   "metadata": {},
   "outputs": [],
   "source": [
    "x"
   ]
  },
  {
   "cell_type": "code",
   "execution_count": null,
   "id": "6c08a4e1",
   "metadata": {},
   "outputs": [],
   "source": [
    "st = 'Print every word in this sentence that has an even number of letters'\n",
    "for word in st.split():\n",
    "    if len(word)%2==0:\n",
    "        print(word)\n"
   ]
  },
  {
   "cell_type": "code",
   "execution_count": null,
   "id": "8df72f55",
   "metadata": {},
   "outputs": [],
   "source": []
  },
  {
   "cell_type": "code",
   "execution_count": 9,
   "id": "34ce9805",
   "metadata": {},
   "outputs": [],
   "source": [
    "def myfunc(*args):\n",
    "    return sum(args)*0.05"
   ]
  },
  {
   "cell_type": "code",
   "execution_count": 11,
   "id": "661f6c83",
   "metadata": {},
   "outputs": [
    {
     "data": {
      "text/plain": [
       "5.0"
      ]
     },
     "execution_count": 11,
     "metadata": {},
     "output_type": "execute_result"
    }
   ],
   "source": [
    "myfunc(50,50)"
   ]
  },
  {
   "cell_type": "code",
   "execution_count": 12,
   "id": "ed9c3a63",
   "metadata": {},
   "outputs": [],
   "source": [
    "even=[]\n",
    "def myfunc(*args):\n",
    "    for num in args:\n",
    "        if num%2==0:\n",
    "            print(num)\n",
    "            even.append(num)\n",
    "    return(even)"
   ]
  },
  {
   "cell_type": "code",
   "execution_count": 15,
   "id": "d4c1ac63",
   "metadata": {},
   "outputs": [
    {
     "name": "stdout",
     "output_type": "stream",
     "text": [
      "2\n",
      "4\n"
     ]
    }
   ],
   "source": [
    "x=myfunc(1,2,3,4)"
   ]
  },
  {
   "cell_type": "code",
   "execution_count": 16,
   "id": "5606b86c",
   "metadata": {},
   "outputs": [
    {
     "data": {
      "text/plain": [
       "[2, 4, 2, 4]"
      ]
     },
     "execution_count": 16,
     "metadata": {},
     "output_type": "execute_result"
    }
   ],
   "source": [
    "x"
   ]
  },
  {
   "cell_type": "code",
   "execution_count": null,
   "id": "7fb181e7",
   "metadata": {},
   "outputs": [],
   "source": [
    "def myfunc(texts):\n",
    "    out=''\n",
    "    for index, text in enumerate(texts):\n",
    "        if index % 2==0:\n",
    "            out = out + text.upper()\n",
    "        else:\n",
    "            out = out+text.lower()\n",
    "    return out   \n",
    "        \n",
    "    \n",
    "    "
   ]
  },
  {
   "cell_type": "code",
   "execution_count": null,
   "id": "ef5a0eea",
   "metadata": {},
   "outputs": [],
   "source": []
  },
  {
   "cell_type": "code",
   "execution_count": null,
   "id": "982993ad",
   "metadata": {},
   "outputs": [],
   "source": []
  },
  {
   "cell_type": "code",
   "execution_count": null,
   "id": "79ffdc4c",
   "metadata": {},
   "outputs": [],
   "source": []
  },
  {
   "cell_type": "code",
   "execution_count": null,
   "id": "64cb128f",
   "metadata": {},
   "outputs": [],
   "source": [
    "\n"
   ]
  },
  {
   "cell_type": "code",
   "execution_count": null,
   "id": "07e499b0",
   "metadata": {},
   "outputs": [],
   "source": []
  },
  {
   "cell_type": "code",
   "execution_count": null,
   "id": "f0a2c4a0",
   "metadata": {},
   "outputs": [],
   "source": []
  },
  {
   "cell_type": "code",
   "execution_count": null,
   "id": "31e73510",
   "metadata": {},
   "outputs": [],
   "source": []
  },
  {
   "cell_type": "code",
   "execution_count": 17,
   "id": "11672e45",
   "metadata": {},
   "outputs": [],
   "source": [
    "\n",
    "def myfunc(args):\n",
    "    str=''\n",
    "    for index,letter in enumerate(args):\n",
    "        \n",
    "        if index%2==0:\n",
    "            str= str + (letter).upper()\n",
    "            \n",
    "        else:\n",
    "            str= str + (letter).lower()\n",
    "            \n",
    "    return str\n",
    "        "
   ]
  },
  {
   "cell_type": "code",
   "execution_count": 18,
   "id": "91e0c51d",
   "metadata": {},
   "outputs": [],
   "source": [
    "x=myfunc('tarunagrawal')"
   ]
  },
  {
   "cell_type": "code",
   "execution_count": 19,
   "id": "4dcbdd6a",
   "metadata": {},
   "outputs": [
    {
     "data": {
      "text/plain": [
       "'TaRuNaGrAwAl'"
      ]
     },
     "execution_count": 19,
     "metadata": {},
     "output_type": "execute_result"
    }
   ],
   "source": [
    "x"
   ]
  },
  {
   "cell_type": "code",
   "execution_count": 20,
   "id": "29d3d36a",
   "metadata": {},
   "outputs": [],
   "source": [
    "def myfunc(a,b):\n",
    "    if (a+b)%2==0 and a<b:\n",
    "        return a\n",
    "    elif (a+b)%2!=0 and a<b:\n",
    "        return b\n",
    "    else:\n",
    "        pass\n",
    "        "
   ]
  },
  {
   "cell_type": "code",
   "execution_count": 21,
   "id": "5bc1e2a9",
   "metadata": {},
   "outputs": [
    {
     "data": {
      "text/plain": [
       "2"
      ]
     },
     "execution_count": 21,
     "metadata": {},
     "output_type": "execute_result"
    }
   ],
   "source": [
    "myfunc(2,4)"
   ]
  },
  {
   "cell_type": "code",
   "execution_count": 22,
   "id": "2deae592",
   "metadata": {},
   "outputs": [],
   "source": [
    "def myfunc(text):\n",
    "    x=text.split()\n",
    "    first= x[0]\n",
    "    second= x[1]\n",
    "    return first[0]==second[0]\n",
    "    "
   ]
  },
  {
   "cell_type": "code",
   "execution_count": 23,
   "id": "e580632c",
   "metadata": {},
   "outputs": [
    {
     "data": {
      "text/plain": [
       "True"
      ]
     },
     "execution_count": 23,
     "metadata": {},
     "output_type": "execute_result"
    }
   ],
   "source": [
    "myfunc(\"tarun tagrawal\")"
   ]
  },
  {
   "cell_type": "code",
   "execution_count": 24,
   "id": "fa2fe08e",
   "metadata": {},
   "outputs": [],
   "source": [
    "def myfunc(a,b):\n",
    "    return (a+b)==20 or a==20 or b==20\n",
    "    \n",
    "    "
   ]
  },
  {
   "cell_type": "code",
   "execution_count": 25,
   "id": "cf2322bc",
   "metadata": {},
   "outputs": [
    {
     "data": {
      "text/plain": [
       "True"
      ]
     },
     "execution_count": 25,
     "metadata": {},
     "output_type": "execute_result"
    }
   ],
   "source": [
    "myfunc(14,6)"
   ]
  },
  {
   "cell_type": "code",
   "execution_count": 33,
   "id": "a78d57e4",
   "metadata": {},
   "outputs": [],
   "source": [
    "def mecd(*args):\n",
    "    str=''\n",
    "    for index,letter in enumerate(args[0]):\n",
    "        if index==0 or index==3:\n",
    "            str=str+letter.capitalize()\n",
    "        else:\n",
    "            str= str + letter\n",
    "            \n",
    "    return str\n",
    "        "
   ]
  },
  {
   "cell_type": "code",
   "execution_count": 34,
   "id": "fc140da2",
   "metadata": {},
   "outputs": [
    {
     "data": {
      "text/plain": [
       "'ShiPra'"
      ]
     },
     "execution_count": 34,
     "metadata": {},
     "output_type": "execute_result"
    }
   ],
   "source": [
    "mecd(\"shipra\")"
   ]
  },
  {
   "cell_type": "code",
   "execution_count": 28,
   "id": "f4f6ef4d",
   "metadata": {},
   "outputs": [],
   "source": [
    "def reverse(text):\n",
    "    str=text.split()\n",
    "    revstr=str[::-1]\n",
    "    return \" \".join(revstr)"
   ]
  },
  {
   "cell_type": "code",
   "execution_count": 29,
   "id": "4a642784",
   "metadata": {},
   "outputs": [
    {
     "data": {
      "text/plain": [
       "'tarun is name my hello'"
      ]
     },
     "execution_count": 29,
     "metadata": {},
     "output_type": "execute_result"
    }
   ],
   "source": [
    "reverse('hello my name is tarun')"
   ]
  },
  {
   "cell_type": "code",
   "execution_count": 30,
   "id": "6da611c1",
   "metadata": {},
   "outputs": [
    {
     "data": {
      "text/plain": [
       "['h', 'e', 'l', 'l', 'o', ' ', 't', 'h', 'i', 's', ' ', 'i', 's', ' ']"
      ]
     },
     "execution_count": 30,
     "metadata": {},
     "output_type": "execute_result"
    }
   ],
   "source": [
    "list(\"hello this is \")"
   ]
  },
  {
   "cell_type": "code",
   "execution_count": 31,
   "id": "6dff9a88",
   "metadata": {},
   "outputs": [
    {
     "ename": "SyntaxError",
     "evalue": "invalid syntax (<ipython-input-31-0c641c2c0677>, line 2)",
     "output_type": "error",
     "traceback": [
      "\u001b[1;36m  File \u001b[1;32m\"<ipython-input-31-0c641c2c0677>\"\u001b[1;36m, line \u001b[1;32m2\u001b[0m\n\u001b[1;33m    return n== or n==100 or n==400\u001b[0m\n\u001b[1;37m               ^\u001b[0m\n\u001b[1;31mSyntaxError\u001b[0m\u001b[1;31m:\u001b[0m invalid syntax\n"
     ]
    }
   ],
   "source": [
    "def integer(n):\n",
    "    return n== or n==100 or n==400"
   ]
  },
  {
   "cell_type": "code",
   "execution_count": 32,
   "id": "1b8e2694",
   "metadata": {},
   "outputs": [
    {
     "ename": "NameError",
     "evalue": "name 'integer' is not defined",
     "output_type": "error",
     "traceback": [
      "\u001b[1;31m---------------------------------------------------------------------------\u001b[0m",
      "\u001b[1;31mNameError\u001b[0m                                 Traceback (most recent call last)",
      "\u001b[1;32m<ipython-input-32-e1e678a048a8>\u001b[0m in \u001b[0;36m<module>\u001b[1;34m\u001b[0m\n\u001b[1;32m----> 1\u001b[1;33m \u001b[0minteger\u001b[0m\u001b[1;33m(\u001b[0m\u001b[1;36m10\u001b[0m\u001b[1;33m)\u001b[0m\u001b[1;33m\u001b[0m\u001b[1;33m\u001b[0m\u001b[0m\n\u001b[0m",
      "\u001b[1;31mNameError\u001b[0m: name 'integer' is not defined"
     ]
    }
   ],
   "source": [
    "integer(10)"
   ]
  },
  {
   "cell_type": "code",
   "execution_count": null,
   "id": "559c6ab4",
   "metadata": {},
   "outputs": [],
   "source": [
    "def has_33(num):\n",
    "    for i,l in enumerate(num):\n",
    "        if num[i]==3 and num[i+1]==3:\n",
    "            return True\n",
    "        else:\n",
    "            return False\n",
    "\n",
    "       "
   ]
  },
  {
   "cell_type": "code",
   "execution_count": null,
   "id": "8b0d60db",
   "metadata": {},
   "outputs": [],
   "source": [
    "has_33([3,3,1,2,4,5,6,7,8,9])"
   ]
  },
  {
   "cell_type": "code",
   "execution_count": null,
   "id": "d730ae98",
   "metadata": {},
   "outputs": [],
   "source": [
    "def int_fun(mylist):\n",
    "    x=False;\n",
    "    for index in range(0,len(mylist)-1):\n",
    "        if mylist[index]==0:\n",
    "            i=index\n",
    "            if mylist[i:i+3]==[0,0,7]:\n",
    "                x= True\n",
    "        \n",
    "    return x  "
   ]
  },
  {
   "cell_type": "code",
   "execution_count": null,
   "id": "b9cae5ef",
   "metadata": {},
   "outputs": [],
   "source": [
    "int_fun([1,2,3,0,0,8,4,5,7,0,0,9,0,0,9])"
   ]
  },
  {
   "cell_type": "code",
   "execution_count": null,
   "id": "ee2d3ece",
   "metadata": {},
   "outputs": [],
   "source": [
    "[1,2,3]==[1,8,3]"
   ]
  },
  {
   "cell_type": "code",
   "execution_count": null,
   "id": "e26616ef",
   "metadata": {},
   "outputs": [],
   "source": [
    "def int_fun(mylist):\n",
    "   ' '.join(mylist)\n",
    "print (x)\n",
    "    "
   ]
  },
  {
   "cell_type": "code",
   "execution_count": null,
   "id": "a4341223",
   "metadata": {},
   "outputs": [],
   "source": [
    "int_fun([1,2,3,4,5,6])"
   ]
  },
  {
   "cell_type": "code",
   "execution_count": null,
   "id": "57e091fa",
   "metadata": {},
   "outputs": [],
   "source": [
    "mylist=['1','2','tt']\n",
    "''.join(mylist)"
   ]
  },
  {
   "cell_type": "code",
   "execution_count": null,
   "id": "0890adc1",
   "metadata": {},
   "outputs": [],
   "source": [
    "string(mylist)"
   ]
  },
  {
   "cell_type": "code",
   "execution_count": null,
   "id": "f0668748",
   "metadata": {},
   "outputs": [],
   "source": [
    "def int_fun(mylist):\n",
    "    x=False\n",
    "    i=0\n",
    "    for index,num in enumerate(mylist):\n",
    "            if num==0 and i<2:\n",
    "                i=i+1\n",
    "            elif num==7 and i==2:\n",
    "                x= True\n",
    "    return x\n",
    "           "
   ]
  },
  {
   "cell_type": "code",
   "execution_count": null,
   "id": "a95bb1c4",
   "metadata": {},
   "outputs": [],
   "source": [
    "int_fun([1,7,3,0,7,0,0,0])"
   ]
  },
  {
   "cell_type": "code",
   "execution_count": null,
   "id": "4ba671ea",
   "metadata": {},
   "outputs": [],
   "source": [
    "def splicer(mylist):\n",
    "    if len(mylist)%2==0:\n",
    "        return 'even'\n",
    "    else:\n",
    "        return mylist[0]"
   ]
  },
  {
   "cell_type": "code",
   "execution_count": null,
   "id": "3b1fd005",
   "metadata": {},
   "outputs": [],
   "source": [
    "splicer(['tarun','agrawal','good'])"
   ]
  },
  {
   "cell_type": "code",
   "execution_count": null,
   "id": "0dd9156e",
   "metadata": {},
   "outputs": [],
   "source": [
    "list(map(splicer,names))"
   ]
  },
  {
   "cell_type": "code",
   "execution_count": null,
   "id": "6ba47118",
   "metadata": {},
   "outputs": [],
   "source": [
    "a=lambda num:num**2"
   ]
  },
  {
   "cell_type": "code",
   "execution_count": null,
   "id": "db28628c",
   "metadata": {},
   "outputs": [],
   "source": [
    "a(5)"
   ]
  },
  {
   "cell_type": "code",
   "execution_count": null,
   "id": "eb602c5a",
   "metadata": {},
   "outputs": [],
   "source": [
    "list(map(a,[1,2,3,4]))"
   ]
  },
  {
   "cell_type": "code",
   "execution_count": null,
   "id": "027e3545",
   "metadata": {},
   "outputs": [],
   "source": [
    "x=20\n",
    "def printer():\n",
    "    x=50\n",
    "    return x"
   ]
  },
  {
   "cell_type": "code",
   "execution_count": null,
   "id": "62f49341",
   "metadata": {},
   "outputs": [],
   "source": [
    "printer()"
   ]
  },
  {
   "cell_type": "code",
   "execution_count": null,
   "id": "e133f426",
   "metadata": {},
   "outputs": [],
   "source": [
    "a"
   ]
  },
  {
   "cell_type": "code",
   "execution_count": null,
   "id": "781538c2",
   "metadata": {},
   "outputs": [],
   "source": [
    "def ran_chk(num,a,b):\n",
    "    if num>=a and num<b:\n",
    "        print(f'{num} is between {a} and {b}')\n",
    "    else:\n",
    "        print('bhag yahan se')"
   ]
  },
  {
   "cell_type": "code",
   "execution_count": null,
   "id": "16622974",
   "metadata": {},
   "outputs": [],
   "source": [
    "ran_chk(8,1,8)"
   ]
  },
  {
   "cell_type": "raw",
   "id": "5c4b5d37",
   "metadata": {},
   "source": []
  },
  {
   "cell_type": "code",
   "execution_count": null,
   "id": "ab84abcf",
   "metadata": {},
   "outputs": [],
   "source": [
    "def chk_ltr(text):\n",
    "    upper_case=0\n",
    "    lower_case=0\n",
    "   \n",
    "    for ind in range(0,len(text)):\n",
    "        \n",
    "        if text[ind]==text[ind].upper():\n",
    "            upper_case=upper_case+1\n",
    "            \n",
    "        elif text[ind]==text[ind].lower():\n",
    "            lower_case=lower_case+1\n",
    "        else:\n",
    "            pass\n",
    "            #lower_case=len(text)-upper_case\n",
    "           \n",
    "    print(f'upper case count is {upper_case}')\n",
    "    print(f'lower case count is {lower_case}')\n",
    "        "
   ]
  },
  {
   "cell_type": "code",
   "execution_count": null,
   "id": "9b485c19",
   "metadata": {},
   "outputs": [],
   "source": [
    "chk_ltr('tarunagrawal...')"
   ]
  },
  {
   "cell_type": "code",
   "execution_count": null,
   "id": "5e1f4457",
   "metadata": {},
   "outputs": [],
   "source": [
    "s='tarun'"
   ]
  },
  {
   "cell_type": "code",
   "execution_count": null,
   "id": "8c926be5",
   "metadata": {},
   "outputs": [],
   "source": [
    "s.replace('t','m')"
   ]
  },
  {
   "cell_type": "code",
   "execution_count": null,
   "id": "d743c0ea",
   "metadata": {},
   "outputs": [],
   "source": [
    "s"
   ]
  },
  {
   "cell_type": "code",
   "execution_count": null,
   "id": "067d0843",
   "metadata": {},
   "outputs": [],
   "source": [
    "from IPython.display import clear_output\n",
    "def my_board(boardlist):\n",
    "    clear_output()\n",
    "    print(boardlist[1]+'  |  '+boardlist[2]+'  |  '+boardlist[3])\n",
    "    print(boardlist[4]+\"  |  \"+boardlist[5]+'  |  '+boardlist[6])\n",
    "    print(boardlist[7]+\"  |  \"+boardlist[8]+'  |  '+boardlist[9])"
   ]
  },
  {
   "cell_type": "code",
   "execution_count": null,
   "id": "86612485",
   "metadata": {},
   "outputs": [],
   "source": [
    "text_board=[' ']*10\n",
    "my_board(text_board)"
   ]
  },
  {
   "cell_type": "code",
   "execution_count": null,
   "id": "75c45fa6",
   "metadata": {},
   "outputs": [],
   "source": [
    "def player_input():\n",
    "    choice = ''\n",
    "    while choice not in ('x', 'o'):\n",
    "        choice = input(\"player1 enter input (x or o):\")\n",
    "    player1 = choice\n",
    "    if player1=='x':\n",
    "        player2='o'\n",
    "    else:\n",
    "        player2='x'\n",
    "    return (player1,player2)"
   ]
  },
  {
   "cell_type": "code",
   "execution_count": null,
   "id": "b7aea9d9",
   "metadata": {},
   "outputs": [],
   "source": [
    "player1_symbol, player2_symbol=player_input()"
   ]
  },
  {
   "cell_type": "code",
   "execution_count": null,
   "id": "13cd9813",
   "metadata": {},
   "outputs": [],
   "source": []
  },
  {
   "cell_type": "code",
   "execution_count": null,
   "id": "c5ab711b",
   "metadata": {},
   "outputs": [],
   "source": [
    "player2_symbol"
   ]
  },
  {
   "cell_type": "code",
   "execution_count": null,
   "id": "3717a776",
   "metadata": {},
   "outputs": [],
   "source": [
    "\n",
    "        "
   ]
  },
  {
   "cell_type": "code",
   "execution_count": 1,
   "id": "9dbaf28b",
   "metadata": {},
   "outputs": [
    {
     "name": "stdout",
     "output_type": "stream",
     "text": [
      "x  |     |   \n",
      "   |     |   \n",
      "   |     |   \n"
     ]
    },
    {
     "ename": "UnboundLocalError",
     "evalue": "local variable 'active_player' referenced before assignment",
     "output_type": "error",
     "traceback": [
      "\u001b[1;31m---------------------------------------------------------------------------\u001b[0m",
      "\u001b[1;31mUnboundLocalError\u001b[0m                         Traceback (most recent call last)",
      "\u001b[1;32m<ipython-input-1-da52bb90f414>\u001b[0m in \u001b[0;36m<module>\u001b[1;34m\u001b[0m\n\u001b[0;32m     84\u001b[0m             \u001b[1;32mbreak\u001b[0m\u001b[1;33m\u001b[0m\u001b[1;33m\u001b[0m\u001b[0m\n\u001b[0;32m     85\u001b[0m        \u001b[1;31m# game_on(active_player)\u001b[0m\u001b[1;33m\u001b[0m\u001b[1;33m\u001b[0m\u001b[1;33m\u001b[0m\u001b[0m\n\u001b[1;32m---> 86\u001b[1;33m \u001b[0mgame_on\u001b[0m\u001b[1;33m(\u001b[0m\u001b[0mactive_player\u001b[0m\u001b[1;33m)\u001b[0m\u001b[1;33m\u001b[0m\u001b[1;33m\u001b[0m\u001b[0m\n\u001b[0m",
      "\u001b[1;32m<ipython-input-1-da52bb90f414>\u001b[0m in \u001b[0;36mgame_on\u001b[1;34m(player)\u001b[0m\n\u001b[0;32m     81\u001b[0m                 \u001b[1;31m#num= int(input(\"already occupied plz choose another postion:\"))\u001b[0m\u001b[1;33m\u001b[0m\u001b[1;33m\u001b[0m\u001b[1;33m\u001b[0m\u001b[0m\n\u001b[0;32m     82\u001b[0m     \u001b[1;31m#while len(defaultlist):\u001b[0m\u001b[1;33m\u001b[0m\u001b[1;33m\u001b[0m\u001b[1;33m\u001b[0m\u001b[0m\n\u001b[1;32m---> 83\u001b[1;33m         \u001b[1;32mif\u001b[0m \u001b[0mupdate_board\u001b[0m\u001b[1;33m(\u001b[0m\u001b[0mplayer\u001b[0m\u001b[1;33m,\u001b[0m\u001b[0mnum\u001b[0m\u001b[1;33m)\u001b[0m \u001b[1;33m==\u001b[0m \u001b[1;32mTrue\u001b[0m\u001b[1;33m:\u001b[0m\u001b[1;33m\u001b[0m\u001b[1;33m\u001b[0m\u001b[0m\n\u001b[0m\u001b[0;32m     84\u001b[0m             \u001b[1;32mbreak\u001b[0m\u001b[1;33m\u001b[0m\u001b[1;33m\u001b[0m\u001b[0m\n\u001b[0;32m     85\u001b[0m        \u001b[1;31m# game_on(active_player)\u001b[0m\u001b[1;33m\u001b[0m\u001b[1;33m\u001b[0m\u001b[1;33m\u001b[0m\u001b[0m\n",
      "\u001b[1;32m<ipython-input-1-da52bb90f414>\u001b[0m in \u001b[0;36mupdate_board\u001b[1;34m(player, position)\u001b[0m\n\u001b[0;32m     56\u001b[0m         \u001b[1;32mreturn\u001b[0m \u001b[1;32mTrue\u001b[0m\u001b[1;33m\u001b[0m\u001b[1;33m\u001b[0m\u001b[0m\n\u001b[0;32m     57\u001b[0m     \u001b[1;32melse\u001b[0m\u001b[1;33m:\u001b[0m\u001b[1;33m\u001b[0m\u001b[1;33m\u001b[0m\u001b[0m\n\u001b[1;32m---> 58\u001b[1;33m         \u001b[0mgame_on\u001b[0m\u001b[1;33m(\u001b[0m\u001b[0mactive_player\u001b[0m\u001b[1;33m)\u001b[0m\u001b[1;33m\u001b[0m\u001b[1;33m\u001b[0m\u001b[0m\n\u001b[0m\u001b[0;32m     59\u001b[0m \u001b[1;33m\u001b[0m\u001b[0m\n\u001b[0;32m     60\u001b[0m \u001b[1;32mdef\u001b[0m \u001b[0mgame_on\u001b[0m\u001b[1;33m(\u001b[0m\u001b[0mplayer\u001b[0m\u001b[1;33m)\u001b[0m\u001b[1;33m:\u001b[0m\u001b[1;33m\u001b[0m\u001b[1;33m\u001b[0m\u001b[0m\n",
      "\u001b[1;32m<ipython-input-1-da52bb90f414>\u001b[0m in \u001b[0;36mgame_on\u001b[1;34m(player)\u001b[0m\n\u001b[0;32m     81\u001b[0m                 \u001b[1;31m#num= int(input(\"already occupied plz choose another postion:\"))\u001b[0m\u001b[1;33m\u001b[0m\u001b[1;33m\u001b[0m\u001b[1;33m\u001b[0m\u001b[0m\n\u001b[0;32m     82\u001b[0m     \u001b[1;31m#while len(defaultlist):\u001b[0m\u001b[1;33m\u001b[0m\u001b[1;33m\u001b[0m\u001b[1;33m\u001b[0m\u001b[0m\n\u001b[1;32m---> 83\u001b[1;33m         \u001b[1;32mif\u001b[0m \u001b[0mupdate_board\u001b[0m\u001b[1;33m(\u001b[0m\u001b[0mplayer\u001b[0m\u001b[1;33m,\u001b[0m\u001b[0mnum\u001b[0m\u001b[1;33m)\u001b[0m \u001b[1;33m==\u001b[0m \u001b[1;32mTrue\u001b[0m\u001b[1;33m:\u001b[0m\u001b[1;33m\u001b[0m\u001b[1;33m\u001b[0m\u001b[0m\n\u001b[0m\u001b[0;32m     84\u001b[0m             \u001b[1;32mbreak\u001b[0m\u001b[1;33m\u001b[0m\u001b[1;33m\u001b[0m\u001b[0m\n\u001b[0;32m     85\u001b[0m        \u001b[1;31m# game_on(active_player)\u001b[0m\u001b[1;33m\u001b[0m\u001b[1;33m\u001b[0m\u001b[1;33m\u001b[0m\u001b[0m\n",
      "\u001b[1;32m<ipython-input-1-da52bb90f414>\u001b[0m in \u001b[0;36mupdate_board\u001b[1;34m(player, position)\u001b[0m\n\u001b[0;32m     56\u001b[0m         \u001b[1;32mreturn\u001b[0m \u001b[1;32mTrue\u001b[0m\u001b[1;33m\u001b[0m\u001b[1;33m\u001b[0m\u001b[0m\n\u001b[0;32m     57\u001b[0m     \u001b[1;32melse\u001b[0m\u001b[1;33m:\u001b[0m\u001b[1;33m\u001b[0m\u001b[1;33m\u001b[0m\u001b[0m\n\u001b[1;32m---> 58\u001b[1;33m         \u001b[0mgame_on\u001b[0m\u001b[1;33m(\u001b[0m\u001b[0mactive_player\u001b[0m\u001b[1;33m)\u001b[0m\u001b[1;33m\u001b[0m\u001b[1;33m\u001b[0m\u001b[0m\n\u001b[0m\u001b[0;32m     59\u001b[0m \u001b[1;33m\u001b[0m\u001b[0m\n\u001b[0;32m     60\u001b[0m \u001b[1;32mdef\u001b[0m \u001b[0mgame_on\u001b[0m\u001b[1;33m(\u001b[0m\u001b[0mplayer\u001b[0m\u001b[1;33m)\u001b[0m\u001b[1;33m:\u001b[0m\u001b[1;33m\u001b[0m\u001b[1;33m\u001b[0m\u001b[0m\n",
      "\u001b[1;31mUnboundLocalError\u001b[0m: local variable 'active_player' referenced before assignment"
     ]
    }
   ],
   "source": [
    "from IPython.display import clear_output\n",
    "def my_board(boardlist):\n",
    "    clear_output()\n",
    "    print(boardlist[1]+'  |  '+boardlist[2]+'  |  '+boardlist[3])\n",
    "    print(boardlist[4]+\"  |  \"+boardlist[5]+'  |  '+boardlist[6])\n",
    "    print(boardlist[7]+\"  |  \"+boardlist[8]+'  |  '+boardlist[9])\n",
    "    \n",
    "text_board=[' ']*10\n",
    "my_board(text_board)\n",
    "\n",
    "def player_input():\n",
    "    choice = ''\n",
    "    while choice not in ('x', 'o'):\n",
    "        choice = input(\"player1 enter input (x or o):\")\n",
    "    player1_symbol = choice\n",
    "    if player1_symbol=='x':\n",
    "        player2_symbol='o'\n",
    "    else:\n",
    "        player2_symbol='x'\n",
    "        \n",
    "    return (player1_symbol,player2_symbol)\n",
    "    \n",
    "player1_symbol, player2_symbol=player_input()\n",
    "print(player1_symbol, player2_symbol)\n",
    "active_player=\"player1\"\n",
    "def win_chk(board,marker):\n",
    "    #print(marker)\n",
    "    if ((board[1]==board[2]==board[3]==marker) or\n",
    "        (board[4]==board[5]==board[6]==marker) or\n",
    "        (board[7]==board[8]==board[9]==marker) or\n",
    "        (board[1]==board[4]==board[7]==marker) or\n",
    "        (board[2]==board[5]==board[8]==marker) or\n",
    "        (board[3]==board[6]==board[9]==marker) or\n",
    "        (board[1]==board[5]==board[9]==marker) or\n",
    "        (board[3]==board[5]==board[7]==marker)):\n",
    "        if marker==player1_symbol:\n",
    "            print(\"player 1 won\")\n",
    "        else:\n",
    "            print(\"player 2 won\")\n",
    "        return True\n",
    "    else: \n",
    "        return False\n",
    "    \n",
    "def update_board(player,position):\n",
    "    if player==\"player1\":\n",
    "        if (text_board[position] != 'x' and text_board[position] != 'o'):\n",
    "            text_board[position]=player1_symbol\n",
    "            active_player=\"player2\"\n",
    "    else:\n",
    "        if (text_board[position] != 'x' and text_board[position] != 'o'):\n",
    "            print(text_board[position], player2_symbol)\n",
    "            text_board[position]=player2_symbol\n",
    "            active_player=\"player1\"\n",
    "    my_board(text_board)\n",
    "    if win_chk(text_board, text_board[position]) == True: \n",
    "        return True\n",
    "    else:\n",
    "        game_on(active_player)\n",
    "    \n",
    "def game_on(player):\n",
    "    defaultlist=[1,2,3,4,5,6,7,8,9]\n",
    "    num= 0\n",
    "    \n",
    "    while num not in range(1,10):\n",
    "        num= int(input(\"player choose the postion:\"))\n",
    "        for i,num1 in enumerate(defaultlist):   \n",
    "            print(num, num1)\n",
    "            if (num==num1): #and (defaultlist[i] != 'x' and defaultlist[i] != 'o')\n",
    "                \n",
    "                if player==\"player1\":\n",
    "                    if (defaultlist[i] != 'x' or defaultlist[i] != 'o'):\n",
    "                        defaultlist[i]=player1_symbol \n",
    "                else:\n",
    "                    if (defaultlist[i] != 'x' or defaultlist[i] != 'o'):\n",
    "                        defaultlist[i]=player2_symbol \n",
    "                    print(defaultlist[i])\n",
    "            else:\n",
    "                break\n",
    "                print(defaultlist[i])\n",
    "#                 print(\"this position is filled choose other position\")\n",
    "                #num= int(input(\"already occupied plz choose another postion:\"))\n",
    "    #while len(defaultlist):\n",
    "        if update_board(player,num) == True:\n",
    "            break\n",
    "       # game_on(active_player)\n",
    "game_on(active_player)"
   ]
  },
  {
   "cell_type": "markdown",
   "id": "f3d86c02",
   "metadata": {},
   "source": []
  },
  {
   "cell_type": "code",
   "execution_count": null,
   "id": "044afb92",
   "metadata": {},
   "outputs": [],
   "source": [
    " def win_chk(board,marker):\n",
    "        return ((board[1]==board[2]==board[3]==marker) or\n",
    "                (board[4]==board[5]==board[6]==marker) or\n",
    "                (board[7]==board[8]==board[9]==marker) or\n",
    "                (board[1]==board[4]==board[7]==marker) or\n",
    "                (board[2]==board[5]==board[8]==marker) or\n",
    "                (board[3]==board[6]==board[9]==marker) or\n",
    "                (board[1]==board[5]==board[9]==marker) or\n",
    "                (board[3]==board[5]==board[7]==marker))"
   ]
  },
  {
   "cell_type": "code",
   "execution_count": null,
   "id": "72d897c3",
   "metadata": {},
   "outputs": [],
   "source": [
    "my_board(text_board)\n",
    "win_chk(text_board,player1)\n"
   ]
  },
  {
   "cell_type": "code",
   "execution_count": null,
   "id": "fdf3a222",
   "metadata": {},
   "outputs": [],
   "source": [
    "import random\n",
    "def choice_first():\n",
    "    first_chance=random.randint(0,1)\n",
    "    if first_chance==0:\n",
    "        return 'player1'\n",
    "    else:\n",
    "        return 'player2'"
   ]
  },
  {
   "cell_type": "code",
   "execution_count": null,
   "id": "97217a76",
   "metadata": {},
   "outputs": [],
   "source": [
    "choice_first()"
   ]
  },
  {
   "cell_type": "code",
   "execution_count": null,
   "id": "c9351f42",
   "metadata": {},
   "outputs": [],
   "source": []
  },
  {
   "cell_type": "code",
   "execution_count": null,
   "id": "21ed8c76",
   "metadata": {},
   "outputs": [],
   "source": [
    "class Name():\n",
    "    def __init__(self,myname,age):\n",
    "        self.myname = myname\n",
    "        self.age = age\n",
    "        "
   ]
  },
  {
   "cell_type": "code",
   "execution_count": null,
   "id": "f5884e27",
   "metadata": {},
   "outputs": [],
   "source": [
    "my_data = Name(myname='tarun',age=31)"
   ]
  },
  {
   "cell_type": "code",
   "execution_count": null,
   "id": "632d219b",
   "metadata": {},
   "outputs": [],
   "source": [
    "my_data.myname"
   ]
  },
  {
   "cell_type": "code",
   "execution_count": null,
   "id": "65ffc40e",
   "metadata": {},
   "outputs": [],
   "source": [
    "my_data.age"
   ]
  },
  {
   "cell_type": "code",
   "execution_count": null,
   "id": "16d2f2aa",
   "metadata": {},
   "outputs": [],
   "source": [
    "7==[1,2,6,7,8]"
   ]
  },
  {
   "cell_type": "code",
   "execution_count": null,
   "id": "1dae1b0d",
   "metadata": {},
   "outputs": [],
   "source": [
    "listi=[1,2,3]"
   ]
  },
  {
   "cell_type": "code",
   "execution_count": null,
   "id": "cb575db8",
   "metadata": {},
   "outputs": [],
   "source": [
    "listi[1]='x'"
   ]
  },
  {
   "cell_type": "code",
   "execution_count": null,
   "id": "984d16ca",
   "metadata": {},
   "outputs": [],
   "source": [
    "listi"
   ]
  },
  {
   "cell_type": "code",
   "execution_count": null,
   "id": "f8dfdec3",
   "metadata": {},
   "outputs": [],
   "source": []
  }
 ],
 "metadata": {
  "kernelspec": {
   "display_name": "Python 3",
   "language": "python",
   "name": "python3"
  },
  "language_info": {
   "codemirror_mode": {
    "name": "ipython",
    "version": 3
   },
   "file_extension": ".py",
   "mimetype": "text/x-python",
   "name": "python",
   "nbconvert_exporter": "python",
   "pygments_lexer": "ipython3",
   "version": "3.8.8"
  }
 },
 "nbformat": 4,
 "nbformat_minor": 5
}
